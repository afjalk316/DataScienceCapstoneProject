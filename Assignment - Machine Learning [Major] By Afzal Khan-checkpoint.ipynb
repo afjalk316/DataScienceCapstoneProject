{
 "cells": [
  {
   "cell_type": "code",
   "execution_count": 1,
   "id": "86fd6325",
   "metadata": {},
   "outputs": [],
   "source": [
    "import pandas as pd\n",
    "import numpy as np\n",
    "import matplotlib.pyplot as plt\n",
    "import seaborn as sns\n",
    "import warnings\n",
    "warnings.filterwarnings('ignore')"
   ]
  },
  {
   "cell_type": "markdown",
   "id": "20c5c0b2",
   "metadata": {},
   "source": [
    "### Reading the csv file:-"
   ]
  },
  {
   "cell_type": "code",
   "execution_count": 2,
   "id": "94cb723e",
   "metadata": {},
   "outputs": [
    {
     "data": {
      "text/html": [
       "<div>\n",
       "<style scoped>\n",
       "    .dataframe tbody tr th:only-of-type {\n",
       "        vertical-align: middle;\n",
       "    }\n",
       "\n",
       "    .dataframe tbody tr th {\n",
       "        vertical-align: top;\n",
       "    }\n",
       "\n",
       "    .dataframe thead th {\n",
       "        text-align: right;\n",
       "    }\n",
       "</style>\n",
       "<table border=\"1\" class=\"dataframe\">\n",
       "  <thead>\n",
       "    <tr style=\"text-align: right;\">\n",
       "      <th></th>\n",
       "      <th>f_1</th>\n",
       "      <th>f_2</th>\n",
       "      <th>f_3</th>\n",
       "      <th>f_4</th>\n",
       "      <th>f_5</th>\n",
       "      <th>f_6</th>\n",
       "      <th>f_7</th>\n",
       "      <th>f_8</th>\n",
       "      <th>f_9</th>\n",
       "      <th>f_10</th>\n",
       "      <th>...</th>\n",
       "      <th>f_41</th>\n",
       "      <th>f_42</th>\n",
       "      <th>f_43</th>\n",
       "      <th>f_44</th>\n",
       "      <th>f_45</th>\n",
       "      <th>f_46</th>\n",
       "      <th>f_47</th>\n",
       "      <th>f_48</th>\n",
       "      <th>f_49</th>\n",
       "      <th>target</th>\n",
       "    </tr>\n",
       "  </thead>\n",
       "  <tbody>\n",
       "    <tr>\n",
       "      <th>0</th>\n",
       "      <td>1</td>\n",
       "      <td>2558</td>\n",
       "      <td>1506.09</td>\n",
       "      <td>456.63</td>\n",
       "      <td>90</td>\n",
       "      <td>6395000</td>\n",
       "      <td>40.88</td>\n",
       "      <td>7.89</td>\n",
       "      <td>29780.0</td>\n",
       "      <td>0.19</td>\n",
       "      <td>...</td>\n",
       "      <td>2850.00</td>\n",
       "      <td>1000.00</td>\n",
       "      <td>763.16</td>\n",
       "      <td>135.46</td>\n",
       "      <td>3.73</td>\n",
       "      <td>0</td>\n",
       "      <td>33243.19</td>\n",
       "      <td>65.74</td>\n",
       "      <td>7.95</td>\n",
       "      <td>1</td>\n",
       "    </tr>\n",
       "    <tr>\n",
       "      <th>1</th>\n",
       "      <td>2</td>\n",
       "      <td>22325</td>\n",
       "      <td>79.11</td>\n",
       "      <td>841.03</td>\n",
       "      <td>180</td>\n",
       "      <td>55812500</td>\n",
       "      <td>51.11</td>\n",
       "      <td>1.21</td>\n",
       "      <td>61900.0</td>\n",
       "      <td>0.02</td>\n",
       "      <td>...</td>\n",
       "      <td>5750.00</td>\n",
       "      <td>11500.00</td>\n",
       "      <td>9593.48</td>\n",
       "      <td>1648.80</td>\n",
       "      <td>0.60</td>\n",
       "      <td>0</td>\n",
       "      <td>51572.04</td>\n",
       "      <td>65.73</td>\n",
       "      <td>6.26</td>\n",
       "      <td>0</td>\n",
       "    </tr>\n",
       "    <tr>\n",
       "      <th>2</th>\n",
       "      <td>3</td>\n",
       "      <td>115</td>\n",
       "      <td>1449.85</td>\n",
       "      <td>608.43</td>\n",
       "      <td>88</td>\n",
       "      <td>287500</td>\n",
       "      <td>40.42</td>\n",
       "      <td>7.34</td>\n",
       "      <td>3340.0</td>\n",
       "      <td>0.18</td>\n",
       "      <td>...</td>\n",
       "      <td>1400.00</td>\n",
       "      <td>250.00</td>\n",
       "      <td>150.00</td>\n",
       "      <td>45.13</td>\n",
       "      <td>9.33</td>\n",
       "      <td>1</td>\n",
       "      <td>31692.84</td>\n",
       "      <td>65.81</td>\n",
       "      <td>7.84</td>\n",
       "      <td>1</td>\n",
       "    </tr>\n",
       "    <tr>\n",
       "      <th>3</th>\n",
       "      <td>4</td>\n",
       "      <td>1201</td>\n",
       "      <td>1562.53</td>\n",
       "      <td>295.65</td>\n",
       "      <td>66</td>\n",
       "      <td>3002500</td>\n",
       "      <td>42.40</td>\n",
       "      <td>7.97</td>\n",
       "      <td>18030.0</td>\n",
       "      <td>0.19</td>\n",
       "      <td>...</td>\n",
       "      <td>6041.52</td>\n",
       "      <td>761.58</td>\n",
       "      <td>453.21</td>\n",
       "      <td>144.97</td>\n",
       "      <td>13.33</td>\n",
       "      <td>1</td>\n",
       "      <td>37696.21</td>\n",
       "      <td>65.67</td>\n",
       "      <td>8.07</td>\n",
       "      <td>1</td>\n",
       "    </tr>\n",
       "    <tr>\n",
       "      <th>4</th>\n",
       "      <td>5</td>\n",
       "      <td>312</td>\n",
       "      <td>950.27</td>\n",
       "      <td>440.86</td>\n",
       "      <td>37</td>\n",
       "      <td>780000</td>\n",
       "      <td>41.43</td>\n",
       "      <td>7.03</td>\n",
       "      <td>3350.0</td>\n",
       "      <td>0.17</td>\n",
       "      <td>...</td>\n",
       "      <td>1320.04</td>\n",
       "      <td>710.63</td>\n",
       "      <td>512.54</td>\n",
       "      <td>109.16</td>\n",
       "      <td>2.58</td>\n",
       "      <td>0</td>\n",
       "      <td>29038.17</td>\n",
       "      <td>65.66</td>\n",
       "      <td>7.35</td>\n",
       "      <td>0</td>\n",
       "    </tr>\n",
       "  </tbody>\n",
       "</table>\n",
       "<p>5 rows × 50 columns</p>\n",
       "</div>"
      ],
      "text/plain": [
       "   f_1    f_2      f_3     f_4  f_5       f_6    f_7   f_8      f_9  f_10  \\\n",
       "0    1   2558  1506.09  456.63   90   6395000  40.88  7.89  29780.0  0.19   \n",
       "1    2  22325    79.11  841.03  180  55812500  51.11  1.21  61900.0  0.02   \n",
       "2    3    115  1449.85  608.43   88    287500  40.42  7.34   3340.0  0.18   \n",
       "3    4   1201  1562.53  295.65   66   3002500  42.40  7.97  18030.0  0.19   \n",
       "4    5    312   950.27  440.86   37    780000  41.43  7.03   3350.0  0.17   \n",
       "\n",
       "   ...     f_41      f_42     f_43     f_44   f_45  f_46      f_47   f_48  \\\n",
       "0  ...  2850.00   1000.00   763.16   135.46   3.73     0  33243.19  65.74   \n",
       "1  ...  5750.00  11500.00  9593.48  1648.80   0.60     0  51572.04  65.73   \n",
       "2  ...  1400.00    250.00   150.00    45.13   9.33     1  31692.84  65.81   \n",
       "3  ...  6041.52    761.58   453.21   144.97  13.33     1  37696.21  65.67   \n",
       "4  ...  1320.04    710.63   512.54   109.16   2.58     0  29038.17  65.66   \n",
       "\n",
       "   f_49  target  \n",
       "0  7.95       1  \n",
       "1  6.26       0  \n",
       "2  7.84       1  \n",
       "3  8.07       1  \n",
       "4  7.35       0  \n",
       "\n",
       "[5 rows x 50 columns]"
      ]
     },
     "execution_count": 2,
     "metadata": {},
     "output_type": "execute_result"
    }
   ],
   "source": [
    "df=pd.read_csv('oil_spill.csv')\n",
    "df.head()"
   ]
  },
  {
   "cell_type": "markdown",
   "id": "7854f6d1",
   "metadata": {},
   "source": [
    "### Checking Null Values:-"
   ]
  },
  {
   "cell_type": "code",
   "execution_count": 3,
   "id": "7a16a30a",
   "metadata": {},
   "outputs": [
    {
     "data": {
      "text/plain": [
       "f_1       0\n",
       "f_2       0\n",
       "f_3       0\n",
       "f_4       0\n",
       "f_5       0\n",
       "f_6       0\n",
       "f_7       0\n",
       "f_8       0\n",
       "f_9       0\n",
       "f_10      0\n",
       "f_11      0\n",
       "f_12      0\n",
       "f_13      0\n",
       "f_14      0\n",
       "f_15      0\n",
       "f_16      0\n",
       "f_17      0\n",
       "f_18      0\n",
       "f_19      0\n",
       "f_20      0\n",
       "f_21      0\n",
       "f_22      0\n",
       "f_23      0\n",
       "f_24      0\n",
       "f_25      0\n",
       "f_26      0\n",
       "f_27      0\n",
       "f_28      0\n",
       "f_29      0\n",
       "f_30      0\n",
       "f_31      0\n",
       "f_32      0\n",
       "f_33      0\n",
       "f_34      0\n",
       "f_35      0\n",
       "f_36      0\n",
       "f_37      0\n",
       "f_38      0\n",
       "f_39      0\n",
       "f_40      0\n",
       "f_41      0\n",
       "f_42      0\n",
       "f_43      0\n",
       "f_44      0\n",
       "f_45      0\n",
       "f_46      0\n",
       "f_47      0\n",
       "f_48      0\n",
       "f_49      0\n",
       "target    0\n",
       "dtype: int64"
      ]
     },
     "execution_count": 3,
     "metadata": {},
     "output_type": "execute_result"
    }
   ],
   "source": [
    "df.isnull().sum()"
   ]
  },
  {
   "cell_type": "markdown",
   "id": "978c4dee",
   "metadata": {},
   "source": [
    "### Cheking datatypes and info:-"
   ]
  },
  {
   "cell_type": "code",
   "execution_count": 4,
   "id": "20977e95",
   "metadata": {},
   "outputs": [
    {
     "data": {
      "text/plain": [
       "f_1         int64\n",
       "f_2         int64\n",
       "f_3       float64\n",
       "f_4       float64\n",
       "f_5         int64\n",
       "f_6         int64\n",
       "f_7       float64\n",
       "f_8       float64\n",
       "f_9       float64\n",
       "f_10      float64\n",
       "f_11      float64\n",
       "f_12      float64\n",
       "f_13      float64\n",
       "f_14      float64\n",
       "f_15      float64\n",
       "f_16      float64\n",
       "f_17      float64\n",
       "f_18      float64\n",
       "f_19      float64\n",
       "f_20      float64\n",
       "f_21      float64\n",
       "f_22      float64\n",
       "f_23        int64\n",
       "f_24      float64\n",
       "f_25      float64\n",
       "f_26      float64\n",
       "f_27      float64\n",
       "f_28      float64\n",
       "f_29      float64\n",
       "f_30      float64\n",
       "f_31      float64\n",
       "f_32      float64\n",
       "f_33      float64\n",
       "f_34      float64\n",
       "f_35        int64\n",
       "f_36        int64\n",
       "f_37      float64\n",
       "f_38      float64\n",
       "f_39        int64\n",
       "f_40        int64\n",
       "f_41      float64\n",
       "f_42      float64\n",
       "f_43      float64\n",
       "f_44      float64\n",
       "f_45      float64\n",
       "f_46        int64\n",
       "f_47      float64\n",
       "f_48      float64\n",
       "f_49      float64\n",
       "target      int64\n",
       "dtype: object"
      ]
     },
     "execution_count": 4,
     "metadata": {},
     "output_type": "execute_result"
    }
   ],
   "source": [
    "df.dtypes"
   ]
  },
  {
   "cell_type": "code",
   "execution_count": 5,
   "id": "c9ef896f",
   "metadata": {},
   "outputs": [
    {
     "data": {
      "text/plain": [
       "(937, 50)"
      ]
     },
     "execution_count": 5,
     "metadata": {},
     "output_type": "execute_result"
    }
   ],
   "source": [
    "df.shape"
   ]
  },
  {
   "cell_type": "code",
   "execution_count": 6,
   "id": "085fad34",
   "metadata": {},
   "outputs": [
    {
     "name": "stdout",
     "output_type": "stream",
     "text": [
      "<class 'pandas.core.frame.DataFrame'>\n",
      "RangeIndex: 937 entries, 0 to 936\n",
      "Data columns (total 50 columns):\n",
      " #   Column  Non-Null Count  Dtype  \n",
      "---  ------  --------------  -----  \n",
      " 0   f_1     937 non-null    int64  \n",
      " 1   f_2     937 non-null    int64  \n",
      " 2   f_3     937 non-null    float64\n",
      " 3   f_4     937 non-null    float64\n",
      " 4   f_5     937 non-null    int64  \n",
      " 5   f_6     937 non-null    int64  \n",
      " 6   f_7     937 non-null    float64\n",
      " 7   f_8     937 non-null    float64\n",
      " 8   f_9     937 non-null    float64\n",
      " 9   f_10    937 non-null    float64\n",
      " 10  f_11    937 non-null    float64\n",
      " 11  f_12    937 non-null    float64\n",
      " 12  f_13    937 non-null    float64\n",
      " 13  f_14    937 non-null    float64\n",
      " 14  f_15    937 non-null    float64\n",
      " 15  f_16    937 non-null    float64\n",
      " 16  f_17    937 non-null    float64\n",
      " 17  f_18    937 non-null    float64\n",
      " 18  f_19    937 non-null    float64\n",
      " 19  f_20    937 non-null    float64\n",
      " 20  f_21    937 non-null    float64\n",
      " 21  f_22    937 non-null    float64\n",
      " 22  f_23    937 non-null    int64  \n",
      " 23  f_24    937 non-null    float64\n",
      " 24  f_25    937 non-null    float64\n",
      " 25  f_26    937 non-null    float64\n",
      " 26  f_27    937 non-null    float64\n",
      " 27  f_28    937 non-null    float64\n",
      " 28  f_29    937 non-null    float64\n",
      " 29  f_30    937 non-null    float64\n",
      " 30  f_31    937 non-null    float64\n",
      " 31  f_32    937 non-null    float64\n",
      " 32  f_33    937 non-null    float64\n",
      " 33  f_34    937 non-null    float64\n",
      " 34  f_35    937 non-null    int64  \n",
      " 35  f_36    937 non-null    int64  \n",
      " 36  f_37    937 non-null    float64\n",
      " 37  f_38    937 non-null    float64\n",
      " 38  f_39    937 non-null    int64  \n",
      " 39  f_40    937 non-null    int64  \n",
      " 40  f_41    937 non-null    float64\n",
      " 41  f_42    937 non-null    float64\n",
      " 42  f_43    937 non-null    float64\n",
      " 43  f_44    937 non-null    float64\n",
      " 44  f_45    937 non-null    float64\n",
      " 45  f_46    937 non-null    int64  \n",
      " 46  f_47    937 non-null    float64\n",
      " 47  f_48    937 non-null    float64\n",
      " 48  f_49    937 non-null    float64\n",
      " 49  target  937 non-null    int64  \n",
      "dtypes: float64(39), int64(11)\n",
      "memory usage: 366.1 KB\n"
     ]
    }
   ],
   "source": [
    "df.info()"
   ]
  },
  {
   "cell_type": "markdown",
   "id": "a64994d0",
   "metadata": {},
   "source": [
    "### Insights from Data:-"
   ]
  },
  {
   "cell_type": "code",
   "execution_count": 7,
   "id": "3a716dbc",
   "metadata": {},
   "outputs": [
    {
     "data": {
      "text/plain": [
       "0    896\n",
       "1     41\n",
       "Name: target, dtype: int64"
      ]
     },
     "execution_count": 7,
     "metadata": {},
     "output_type": "execute_result"
    }
   ],
   "source": [
    "df2=df['target'].value_counts()\n",
    "df2"
   ]
  },
  {
   "cell_type": "code",
   "execution_count": 8,
   "id": "05949dae",
   "metadata": {},
   "outputs": [
    {
     "data": {
      "image/png": "[encoded data removed]",
      "text/plain": [
       "<Figure size 800x500 with 1 Axes>"
      ]
     },
     "metadata": {},
     "output_type": "display_data"
    }
   ],
   "source": [
    "plt.figure(figsize=(8,5))\n",
    "df2.plot.bar()\n",
    "plt.xlabel('Oil Spill 0:Yes, 1:No')\n",
    "plt.show()"
   ]
  },
  {
   "cell_type": "code",
   "execution_count": 9,
   "id": "f7354708",
   "metadata": {},
   "outputs": [
    {
     "data": {
      "image/png": "[encoded data removed]",
      "text/plain": [
       "<Figure size 1800x1500 with 2 Axes>"
      ]
     },
     "metadata": {},
     "output_type": "display_data"
    }
   ],
   "source": [
    "corr=df.corr()\n",
    "corr=corr[abs(corr)>0.9]\n",
    "plt.figure(figsize=(18,15))\n",
    "sns.heatmap(data=corr,annot=True,cmap='RdBu')\n",
    "plt.show()"
   ]
  },
  {
   "cell_type": "markdown",
   "id": "3f551da4",
   "metadata": {},
   "source": [
    "## Spilit the Data into x and y"
   ]
  },
  {
   "cell_type": "code",
   "execution_count": 10,
   "id": "777b4853",
   "metadata": {},
   "outputs": [
    {
     "name": "stdout",
     "output_type": "stream",
     "text": [
      "(937, 49) (937,)\n"
     ]
    }
   ],
   "source": [
    "x=df.drop('target',axis=1)\n",
    "y=df['target']\n",
    "print(x.shape,y.shape)"
   ]
  },
  {
   "cell_type": "markdown",
   "id": "23afa8a3",
   "metadata": {},
   "source": [
    "## Preprocessing the Data using Standard Scaler:-"
   ]
  },
  {
   "cell_type": "code",
   "execution_count": 11,
   "id": "140185c6",
   "metadata": {},
   "outputs": [
    {
     "name": "stdout",
     "output_type": "stream",
     "text": [
      "[[-1.24092248  1.15238979  1.34643407 ...  3.68676672  0.38873035\n",
      "  -0.05837721]\n",
      " [-1.22552414 11.38954577 -1.03327258 ...  6.36218073  0.38776948\n",
      "  -0.6396642 ]\n",
      " [-1.21012579 -0.11281849  1.2526453  ...  3.46046621  0.39545643\n",
      "  -0.09621246]\n",
      " ...\n",
      " [ 1.85414469 -0.1651255  -1.12327578 ... -0.8513792   0.40506512\n",
      "  -0.68781815]\n",
      " [ 1.86954303 -0.16719707 -1.00510593 ... -0.81220448  0.41083033\n",
      "  -0.61902679]\n",
      " [ 1.88494138 -0.16667918 -1.15230961 ... -0.6135064   0.38008253\n",
      "  -0.6396642 ]]\n",
      "0      1\n",
      "1      0\n",
      "2      1\n",
      "3      1\n",
      "4      0\n",
      "      ..\n",
      "932    0\n",
      "933    0\n",
      "934    0\n",
      "935    0\n",
      "936    0\n",
      "Name: target, Length: 937, dtype: int64\n"
     ]
    }
   ],
   "source": [
    "from sklearn.preprocessing import StandardScaler\n",
    "sc=StandardScaler()\n",
    "x_sc=sc.fit_transform(x)\n",
    "print(x_sc)\n",
    "print(y)"
   ]
  },
  {
   "cell_type": "markdown",
   "id": "501279af",
   "metadata": {},
   "source": [
    "## Train and Test data split:-"
   ]
  },
  {
   "cell_type": "code",
   "execution_count": 12,
   "id": "ac8c33c7",
   "metadata": {},
   "outputs": [
    {
     "name": "stdout",
     "output_type": "stream",
     "text": [
      "x_train=(655, 49),x_test=(282, 49)\n",
      "y_train=(655,),y_test=(282,)\n"
     ]
    }
   ],
   "source": [
    "from sklearn.model_selection import train_test_split\n",
    "x_train,x_test,y_train,y_test=train_test_split(x,y,test_size=0.3,random_state=25)\n",
    "print(f'x_train={x_train.shape},x_test={x_test.shape}')\n",
    "print(f'y_train={y_train.shape},y_test={y_test.shape}')"
   ]
  },
  {
   "cell_type": "markdown",
   "id": "20cef37c",
   "metadata": {},
   "source": [
    "## Creating a function to compute classification report,confusion matrix,accuracy score:-"
   ]
  },
  {
   "cell_type": "code",
   "execution_count": 13,
   "id": "ae35dcae",
   "metadata": {},
   "outputs": [],
   "source": [
    "from sklearn.metrics import confusion_matrix,classification_report,accuracy_score"
   ]
  },
  {
   "cell_type": "code",
   "execution_count": 14,
   "id": "ae0c05a3",
   "metadata": {},
   "outputs": [],
   "source": [
    "def eval_mat(y_test,y_pred):\n",
    "    acc=accuracy_score(y_test,y_pred)\n",
    "    print(f'Accuracy Score={acc}')\n",
    "    cm=confusion_matrix(y_test,y_pred)\n",
    "    print(f'Confusion Matrix={cm}')\n",
    "    print(\"Classification Report\",classification_report(y_test,y_pred))\n",
    "    \n",
    "def mscore(model):\n",
    "    train_score=model.score(x_train,y_train)\n",
    "    test_score=model.score(x_test,y_test)\n",
    "    print('Training Score=',train_score)\n",
    "    print('Testing Score=',test_score)"
   ]
  },
  {
   "cell_type": "markdown",
   "id": "da5a7db0",
   "metadata": {},
   "source": [
    "## Build The Models:-"
   ]
  },
  {
   "cell_type": "code",
   "execution_count": 15,
   "id": "f94eb80e",
   "metadata": {},
   "outputs": [],
   "source": [
    "from sklearn.linear_model import LogisticRegression\n",
    "from sklearn.neighbors import KNeighborsClassifier\n",
    "from sklearn.tree import DecisionTreeClassifier\n",
    "from sklearn.ensemble import BaggingClassifier\n",
    "from sklearn.ensemble import AdaBoostClassifier"
   ]
  },
  {
   "cell_type": "markdown",
   "id": "f870d89d",
   "metadata": {},
   "source": [
    "### logistic Regression Model:-"
   ]
  },
  {
   "cell_type": "code",
   "execution_count": 16,
   "id": "e7638d42",
   "metadata": {},
   "outputs": [
    {
     "data": {
      "text/html": [
       "<style>#sk-container-id-1 {color: black;}#sk-container-id-1 pre{padding: 0;}#sk-container-id-1 div.sk-toggleable {background-color: white;}#sk-container-id-1 label.sk-toggleable__label {cursor: pointer;display: block;width: 100%;margin-bottom: 0;padding: 0.3em;box-sizing: border-box;text-align: center;}#sk-container-id-1 label.sk-toggleable__label-arrow:before {content: \"▸\";float: left;margin-right: 0.25em;color: #696969;}#sk-container-id-1 label.sk-toggleable__label-arrow:hover:before {color: black;}#sk-container-id-1 div.sk-estimator:hover label.sk-toggleable__label-arrow:before {color: black;}#sk-container-id-1 div.sk-toggleable__content {max-height: 0;max-width: 0;overflow: hidden;text-align: left;background-color: #f0f8ff;}#sk-container-id-1 div.sk-toggleable__content pre {margin: 0.2em;color: black;border-radius: 0.25em;background-color: #f0f8ff;}#sk-container-id-1 input.sk-toggleable__control:checked~div.sk-toggleable__content {max-height: 200px;max-width: 100%;overflow: auto;}#sk-container-id-1 input.sk-toggleable__control:checked~label.sk-toggleable__label-arrow:before {content: \"▾\";}#sk-container-id-1 div.sk-estimator input.sk-toggleable__control:checked~label.sk-toggleable__label {background-color: #d4ebff;}#sk-container-id-1 div.sk-label input.sk-toggleable__control:checked~label.sk-toggleable__label {background-color: #d4ebff;}#sk-container-id-1 input.sk-hidden--visually {border: 0;clip: rect(1px 1px 1px 1px);clip: rect(1px, 1px, 1px, 1px);height: 1px;margin: -1px;overflow: hidden;padding: 0;position: absolute;width: 1px;}#sk-container-id-1 div.sk-estimator {font-family: monospace;background-color: #f0f8ff;border: 1px dotted black;border-radius: 0.25em;box-sizing: border-box;margin-bottom: 0.5em;}#sk-container-id-1 div.sk-estimator:hover {background-color: #d4ebff;}#sk-container-id-1 div.sk-parallel-item::after {content: \"\";width: 100%;border-bottom: 1px solid gray;flex-grow: 1;}#sk-container-id-1 div.sk-label:hover label.sk-toggleable__label {background-color: #d4ebff;}#sk-container-id-1 div.sk-serial::before {content: \"\";position: absolute;border-left: 1px solid gray;box-sizing: border-box;top: 0;bottom: 0;left: 50%;z-index: 0;}#sk-container-id-1 div.sk-serial {display: flex;flex-direction: column;align-items: center;background-color: white;padding-right: 0.2em;padding-left: 0.2em;position: relative;}#sk-container-id-1 div.sk-item {position: relative;z-index: 1;}#sk-container-id-1 div.sk-parallel {display: flex;align-items: stretch;justify-content: center;background-color: white;position: relative;}#sk-container-id-1 div.sk-item::before, #sk-container-id-1 div.sk-parallel-item::before {content: \"\";position: absolute;border-left: 1px solid gray;box-sizing: border-box;top: 0;bottom: 0;left: 50%;z-index: -1;}#sk-container-id-1 div.sk-parallel-item {display: flex;flex-direction: column;z-index: 1;position: relative;background-color: white;}#sk-container-id-1 div.sk-parallel-item:first-child::after {align-self: flex-end;width: 50%;}#sk-container-id-1 div.sk-parallel-item:last-child::after {align-self: flex-start;width: 50%;}#sk-container-id-1 div.sk-parallel-item:only-child::after {width: 0;}#sk-container-id-1 div.sk-dashed-wrapped {border: 1px dashed gray;margin: 0 0.4em 0.5em 0.4em;box-sizing: border-box;padding-bottom: 0.4em;background-color: white;}#sk-container-id-1 div.sk-label label {font-family: monospace;font-weight: bold;display: inline-block;line-height: 1.2em;}#sk-container-id-1 div.sk-label-container {text-align: center;}#sk-container-id-1 div.sk-container {/* jupyter's `normalize.less` sets `[hidden] { display: none; }` but bootstrap.min.css set `[hidden] { display: none !important; }` so we also need the `!important` here to be able to override the default hidden behavior on the sphinx rendered scikit-learn.org. See: https://github.com/scikit-learn/scikit-learn/issues/21755 */display: inline-block !important;position: relative;}#sk-container-id-1 div.sk-text-repr-fallback {display: none;}</style><div id=\"sk-container-id-1\" class=\"sk-top-container\"><div class=\"sk-text-repr-fallback\"><pre>LogisticRegression(max_iter=1000, solver=&#x27;liblinear&#x27;)</pre><b>In a Jupyter environment, please rerun this cell to show the HTML representation or trust the notebook. <br />On GitHub, the HTML representation is unable to render, please try loading this page with nbviewer.org.</b></div><div class=\"sk-container\" hidden><div class=\"sk-item\"><div class=\"sk-estimator sk-toggleable\"><input class=\"sk-toggleable__control sk-hidden--visually\" id=\"sk-estimator-id-1\" type=\"checkbox\" checked><label for=\"sk-estimator-id-1\" class=\"sk-toggleable__label sk-toggleable__label-arrow\">LogisticRegression</label><div class=\"sk-toggleable__content\"><pre>LogisticRegression(max_iter=1000, solver=&#x27;liblinear&#x27;)</pre></div></div></div></div></div>"
      ],
      "text/plain": [
       "LogisticRegression(max_iter=1000, solver='liblinear')"
      ]
     },
     "execution_count": 16,
     "metadata": {},
     "output_type": "execute_result"
    }
   ],
   "source": [
    "lr=LogisticRegression(max_iter=1000,solver='liblinear')\n",
    "lr.fit(x_train,y_train)"
   ]
  },
  {
   "cell_type": "code",
   "execution_count": 17,
   "id": "265abf1a",
   "metadata": {},
   "outputs": [
    {
     "name": "stdout",
     "output_type": "stream",
     "text": [
      "Training Score= 0.9740458015267176\n",
      "Testing Score= 0.9468085106382979\n"
     ]
    }
   ],
   "source": [
    "## Model score:-\n",
    "\n",
    "mscore(lr)"
   ]
  },
  {
   "cell_type": "code",
   "execution_count": 18,
   "id": "c1744f8c",
   "metadata": {},
   "outputs": [
    {
     "name": "stdout",
     "output_type": "stream",
     "text": [
      "[1 0 0 0 0 0 0 0 0 0 0 1 1 0 0 0 0 0 0 0 1 0 0 0 0 0 1 0 0 0 0 0 0 0 0 0 0\n",
      " 0 0 0 0 0 0 0 0 0 0 0 0 0 0 0 0 0 0 0 1 0 0 0 0 0 0 0 0 0 0 0 0 0 0 1 0 0\n",
      " 0 0 0 0 0 0 0 0 0 0 0 0 0 0 0 1 0 0 0 0 0 0 0 0 0 0 0 0 0 0 0 0 0 0 0 1 0\n",
      " 0 0 0 0 0 0 0 0 0 0 0 0 0 0 0 0 0 0 0 0 0 0 0 0 0 0 0 0 0 0 0 0 0 0 0 0 0\n",
      " 1 0 0 0 0 0 0 0 0 0 0 0 0 0 0 0 0 0 0 0 0 0 0 0 0 0 0 0 0 0 1 0 0 0 0 0 0\n",
      " 0 0 0 0 0 0 0 0 0 0 0 0 0 0 0 0 0 0 0 0 0 0 0 0 0 0 0 0 0 0 0 0 0 0 0 1 0\n",
      " 0 0 0 0 1 1 0 0 0 0 0 0 0 0 0 0 0 0 0 0 0 0 0 0 0 0 0 0 0 0 0 0 0 0 0 0 0\n",
      " 0 1 0 0 0 0 0 0 0 0 0 0 0 0 0 0 0 0 0 0 0 0 1]\n"
     ]
    }
   ],
   "source": [
    "## Prediction on y values:-\n",
    "\n",
    "y_pred_lr=lr.predict(x_test)\n",
    "print(y_pred_lr)"
   ]
  },
  {
   "cell_type": "code",
   "execution_count": 19,
   "id": "d3396c3f",
   "metadata": {},
   "outputs": [
    {
     "name": "stdout",
     "output_type": "stream",
     "text": [
      "Accuracy Score=0.9468085106382979\n",
      "Confusion Matrix=[[262  11]\n",
      " [  4   5]]\n",
      "Classification Report               precision    recall  f1-score   support\n",
      "\n",
      "           0       0.98      0.96      0.97       273\n",
      "           1       0.31      0.56      0.40         9\n",
      "\n",
      "    accuracy                           0.95       282\n",
      "   macro avg       0.65      0.76      0.69       282\n",
      "weighted avg       0.96      0.95      0.95       282\n",
      "\n"
     ]
    }
   ],
   "source": [
    "## Evaltion Metrics:-\n",
    "\n",
    "eval_mat(y_test,y_pred_lr)"
   ]
  },
  {
   "cell_type": "markdown",
   "id": "aa72ab09",
   "metadata": {},
   "source": [
    "### K Neighbors Classifier Model:-"
   ]
  },
  {
   "cell_type": "code",
   "execution_count": 20,
   "id": "68efe173",
   "metadata": {},
   "outputs": [
    {
     "data": {
      "text/html": [
       "<style>#sk-container-id-2 {color: black;}#sk-container-id-2 pre{padding: 0;}#sk-container-id-2 div.sk-toggleable {background-color: white;}#sk-container-id-2 label.sk-toggleable__label {cursor: pointer;display: block;width: 100%;margin-bottom: 0;padding: 0.3em;box-sizing: border-box;text-align: center;}#sk-container-id-2 label.sk-toggleable__label-arrow:before {content: \"▸\";float: left;margin-right: 0.25em;color: #696969;}#sk-container-id-2 label.sk-toggleable__label-arrow:hover:before {color: black;}#sk-container-id-2 div.sk-estimator:hover label.sk-toggleable__label-arrow:before {color: black;}#sk-container-id-2 div.sk-toggleable__content {max-height: 0;max-width: 0;overflow: hidden;text-align: left;background-color: #f0f8ff;}#sk-container-id-2 div.sk-toggleable__content pre {margin: 0.2em;color: black;border-radius: 0.25em;background-color: #f0f8ff;}#sk-container-id-2 input.sk-toggleable__control:checked~div.sk-toggleable__content {max-height: 200px;max-width: 100%;overflow: auto;}#sk-container-id-2 input.sk-toggleable__control:checked~label.sk-toggleable__label-arrow:before {content: \"▾\";}#sk-container-id-2 div.sk-estimator input.sk-toggleable__control:checked~label.sk-toggleable__label {background-color: #d4ebff;}#sk-container-id-2 div.sk-label input.sk-toggleable__control:checked~label.sk-toggleable__label {background-color: #d4ebff;}#sk-container-id-2 input.sk-hidden--visually {border: 0;clip: rect(1px 1px 1px 1px);clip: rect(1px, 1px, 1px, 1px);height: 1px;margin: -1px;overflow: hidden;padding: 0;position: absolute;width: 1px;}#sk-container-id-2 div.sk-estimator {font-family: monospace;background-color: #f0f8ff;border: 1px dotted black;border-radius: 0.25em;box-sizing: border-box;margin-bottom: 0.5em;}#sk-container-id-2 div.sk-estimator:hover {background-color: #d4ebff;}#sk-container-id-2 div.sk-parallel-item::after {content: \"\";width: 100%;border-bottom: 1px solid gray;flex-grow: 1;}#sk-container-id-2 div.sk-label:hover label.sk-toggleable__label {background-color: #d4ebff;}#sk-container-id-2 div.sk-serial::before {content: \"\";position: absolute;border-left: 1px solid gray;box-sizing: border-box;top: 0;bottom: 0;left: 50%;z-index: 0;}#sk-container-id-2 div.sk-serial {display: flex;flex-direction: column;align-items: center;background-color: white;padding-right: 0.2em;padding-left: 0.2em;position: relative;}#sk-container-id-2 div.sk-item {position: relative;z-index: 1;}#sk-container-id-2 div.sk-parallel {display: flex;align-items: stretch;justify-content: center;background-color: white;position: relative;}#sk-container-id-2 div.sk-item::before, #sk-container-id-2 div.sk-parallel-item::before {content: \"\";position: absolute;border-left: 1px solid gray;box-sizing: border-box;top: 0;bottom: 0;left: 50%;z-index: -1;}#sk-container-id-2 div.sk-parallel-item {display: flex;flex-direction: column;z-index: 1;position: relative;background-color: white;}#sk-container-id-2 div.sk-parallel-item:first-child::after {align-self: flex-end;width: 50%;}#sk-container-id-2 div.sk-parallel-item:last-child::after {align-self: flex-start;width: 50%;}#sk-container-id-2 div.sk-parallel-item:only-child::after {width: 0;}#sk-container-id-2 div.sk-dashed-wrapped {border: 1px dashed gray;margin: 0 0.4em 0.5em 0.4em;box-sizing: border-box;padding-bottom: 0.4em;background-color: white;}#sk-container-id-2 div.sk-label label {font-family: monospace;font-weight: bold;display: inline-block;line-height: 1.2em;}#sk-container-id-2 div.sk-label-container {text-align: center;}#sk-container-id-2 div.sk-container {/* jupyter's `normalize.less` sets `[hidden] { display: none; }` but bootstrap.min.css set `[hidden] { display: none !important; }` so we also need the `!important` here to be able to override the default hidden behavior on the sphinx rendered scikit-learn.org. See: https://github.com/scikit-learn/scikit-learn/issues/21755 */display: inline-block !important;position: relative;}#sk-container-id-2 div.sk-text-repr-fallback {display: none;}</style><div id=\"sk-container-id-2\" class=\"sk-top-container\"><div class=\"sk-text-repr-fallback\"><pre>KNeighborsClassifier(n_neighbors=3)</pre><b>In a Jupyter environment, please rerun this cell to show the HTML representation or trust the notebook. <br />On GitHub, the HTML representation is unable to render, please try loading this page with nbviewer.org.</b></div><div class=\"sk-container\" hidden><div class=\"sk-item\"><div class=\"sk-estimator sk-toggleable\"><input class=\"sk-toggleable__control sk-hidden--visually\" id=\"sk-estimator-id-2\" type=\"checkbox\" checked><label for=\"sk-estimator-id-2\" class=\"sk-toggleable__label sk-toggleable__label-arrow\">KNeighborsClassifier</label><div class=\"sk-toggleable__content\"><pre>KNeighborsClassifier(n_neighbors=3)</pre></div></div></div></div></div>"
      ],
      "text/plain": [
       "KNeighborsClassifier(n_neighbors=3)"
      ]
     },
     "execution_count": 20,
     "metadata": {},
     "output_type": "execute_result"
    }
   ],
   "source": [
    "knc=KNeighborsClassifier(n_neighbors=3)\n",
    "knc.fit(x_train,y_train)"
   ]
  },
  {
   "cell_type": "markdown",
   "id": "0f6a7ab6",
   "metadata": {},
   "source": [
    "### Decision Tree Classifier Model:-"
   ]
  },
  {
   "cell_type": "code",
   "execution_count": 21,
   "id": "3a42ac9f",
   "metadata": {},
   "outputs": [
    {
     "data": {
      "text/html": [
       "<style>#sk-container-id-3 {color: black;}#sk-container-id-3 pre{padding: 0;}#sk-container-id-3 div.sk-toggleable {background-color: white;}#sk-container-id-3 label.sk-toggleable__label {cursor: pointer;display: block;width: 100%;margin-bottom: 0;padding: 0.3em;box-sizing: border-box;text-align: center;}#sk-container-id-3 label.sk-toggleable__label-arrow:before {content: \"▸\";float: left;margin-right: 0.25em;color: #696969;}#sk-container-id-3 label.sk-toggleable__label-arrow:hover:before {color: black;}#sk-container-id-3 div.sk-estimator:hover label.sk-toggleable__label-arrow:before {color: black;}#sk-container-id-3 div.sk-toggleable__content {max-height: 0;max-width: 0;overflow: hidden;text-align: left;background-color: #f0f8ff;}#sk-container-id-3 div.sk-toggleable__content pre {margin: 0.2em;color: black;border-radius: 0.25em;background-color: #f0f8ff;}#sk-container-id-3 input.sk-toggleable__control:checked~div.sk-toggleable__content {max-height: 200px;max-width: 100%;overflow: auto;}#sk-container-id-3 input.sk-toggleable__control:checked~label.sk-toggleable__label-arrow:before {content: \"▾\";}#sk-container-id-3 div.sk-estimator input.sk-toggleable__control:checked~label.sk-toggleable__label {background-color: #d4ebff;}#sk-container-id-3 div.sk-label input.sk-toggleable__control:checked~label.sk-toggleable__label {background-color: #d4ebff;}#sk-container-id-3 input.sk-hidden--visually {border: 0;clip: rect(1px 1px 1px 1px);clip: rect(1px, 1px, 1px, 1px);height: 1px;margin: -1px;overflow: hidden;padding: 0;position: absolute;width: 1px;}#sk-container-id-3 div.sk-estimator {font-family: monospace;background-color: #f0f8ff;border: 1px dotted black;border-radius: 0.25em;box-sizing: border-box;margin-bottom: 0.5em;}#sk-container-id-3 div.sk-estimator:hover {background-color: #d4ebff;}#sk-container-id-3 div.sk-parallel-item::after {content: \"\";width: 100%;border-bottom: 1px solid gray;flex-grow: 1;}#sk-container-id-3 div.sk-label:hover label.sk-toggleable__label {background-color: #d4ebff;}#sk-container-id-3 div.sk-serial::before {content: \"\";position: absolute;border-left: 1px solid gray;box-sizing: border-box;top: 0;bottom: 0;left: 50%;z-index: 0;}#sk-container-id-3 div.sk-serial {display: flex;flex-direction: column;align-items: center;background-color: white;padding-right: 0.2em;padding-left: 0.2em;position: relative;}#sk-container-id-3 div.sk-item {position: relative;z-index: 1;}#sk-container-id-3 div.sk-parallel {display: flex;align-items: stretch;justify-content: center;background-color: white;position: relative;}#sk-container-id-3 div.sk-item::before, #sk-container-id-3 div.sk-parallel-item::before {content: \"\";position: absolute;border-left: 1px solid gray;box-sizing: border-box;top: 0;bottom: 0;left: 50%;z-index: -1;}#sk-container-id-3 div.sk-parallel-item {display: flex;flex-direction: column;z-index: 1;position: relative;background-color: white;}#sk-container-id-3 div.sk-parallel-item:first-child::after {align-self: flex-end;width: 50%;}#sk-container-id-3 div.sk-parallel-item:last-child::after {align-self: flex-start;width: 50%;}#sk-container-id-3 div.sk-parallel-item:only-child::after {width: 0;}#sk-container-id-3 div.sk-dashed-wrapped {border: 1px dashed gray;margin: 0 0.4em 0.5em 0.4em;box-sizing: border-box;padding-bottom: 0.4em;background-color: white;}#sk-container-id-3 div.sk-label label {font-family: monospace;font-weight: bold;display: inline-block;line-height: 1.2em;}#sk-container-id-3 div.sk-label-container {text-align: center;}#sk-container-id-3 div.sk-container {/* jupyter's `normalize.less` sets `[hidden] { display: none; }` but bootstrap.min.css set `[hidden] { display: none !important; }` so we also need the `!important` here to be able to override the default hidden behavior on the sphinx rendered scikit-learn.org. See: https://github.com/scikit-learn/scikit-learn/issues/21755 */display: inline-block !important;position: relative;}#sk-container-id-3 div.sk-text-repr-fallback {display: none;}</style><div id=\"sk-container-id-3\" class=\"sk-top-container\"><div class=\"sk-text-repr-fallback\"><pre>DecisionTreeClassifier(criterion=&#x27;entropy&#x27;, max_depth=15, min_samples_split=25)</pre><b>In a Jupyter environment, please rerun this cell to show the HTML representation or trust the notebook. <br />On GitHub, the HTML representation is unable to render, please try loading this page with nbviewer.org.</b></div><div class=\"sk-container\" hidden><div class=\"sk-item\"><div class=\"sk-estimator sk-toggleable\"><input class=\"sk-toggleable__control sk-hidden--visually\" id=\"sk-estimator-id-3\" type=\"checkbox\" checked><label for=\"sk-estimator-id-3\" class=\"sk-toggleable__label sk-toggleable__label-arrow\">DecisionTreeClassifier</label><div class=\"sk-toggleable__content\"><pre>DecisionTreeClassifier(criterion=&#x27;entropy&#x27;, max_depth=15, min_samples_split=25)</pre></div></div></div></div></div>"
      ],
      "text/plain": [
       "DecisionTreeClassifier(criterion='entropy', max_depth=15, min_samples_split=25)"
      ]
     },
     "execution_count": 21,
     "metadata": {},
     "output_type": "execute_result"
    }
   ],
   "source": [
    "dt=DecisionTreeClassifier(criterion='entropy',max_depth=15,min_samples_split=25)\n",
    "dt.fit(x_train,y_train)"
   ]
  },
  {
   "cell_type": "code",
   "execution_count": 22,
   "id": "143766fd",
   "metadata": {},
   "outputs": [
    {
     "name": "stdout",
     "output_type": "stream",
     "text": [
      "Training Score= 0.9740458015267176\n",
      "Testing Score= 0.9609929078014184\n"
     ]
    }
   ],
   "source": [
    "## Model Score:-\n",
    "\n",
    "mscore(dt)"
   ]
  },
  {
   "cell_type": "code",
   "execution_count": 23,
   "id": "83274766",
   "metadata": {},
   "outputs": [
    {
     "name": "stdout",
     "output_type": "stream",
     "text": [
      "[0 0 0 0 0 0 0 0 0 0 0 0 1 0 0 0 0 0 0 0 0 0 0 0 0 0 1 0 0 0 0 0 0 0 0 0 0\n",
      " 0 0 0 1 0 0 0 0 0 0 0 0 0 0 0 0 0 0 0 0 0 0 0 0 0 0 0 0 0 0 0 0 0 0 0 0 0\n",
      " 1 0 0 0 0 0 0 0 0 0 0 0 0 0 0 0 0 0 0 0 0 0 0 0 0 0 1 0 0 0 0 0 0 0 0 1 0\n",
      " 0 0 0 0 0 0 0 0 0 0 0 0 0 0 0 0 0 0 0 0 0 0 0 0 0 0 0 0 0 0 0 0 0 0 0 0 0\n",
      " 0 0 0 0 0 0 0 0 0 0 0 0 0 0 0 0 0 0 0 0 0 0 0 0 0 0 0 0 0 0 1 0 0 0 0 0 0\n",
      " 0 0 0 0 0 0 0 0 0 0 0 0 0 0 0 0 0 0 0 0 0 0 1 0 0 0 0 0 1 0 0 0 0 0 0 0 0\n",
      " 0 0 0 0 0 1 0 0 0 0 0 0 0 0 0 0 0 0 0 0 0 0 0 0 0 0 0 0 0 0 0 0 0 0 0 0 0\n",
      " 0 1 0 0 0 0 0 0 0 0 0 0 0 0 0 0 0 0 0 0 0 0 1]\n"
     ]
    }
   ],
   "source": [
    "## Prediction on y values:-\n",
    "\n",
    "y_pred_dt=dt.predict(x_test)\n",
    "print(y_pred_dt)"
   ]
  },
  {
   "cell_type": "code",
   "execution_count": 24,
   "id": "ea44ef0c",
   "metadata": {},
   "outputs": [
    {
     "name": "stdout",
     "output_type": "stream",
     "text": [
      "Accuracy Score=0.9609929078014184\n",
      "Confusion Matrix=[[266   7]\n",
      " [  4   5]]\n",
      "Classification Report               precision    recall  f1-score   support\n",
      "\n",
      "           0       0.99      0.97      0.98       273\n",
      "           1       0.42      0.56      0.48         9\n",
      "\n",
      "    accuracy                           0.96       282\n",
      "   macro avg       0.70      0.76      0.73       282\n",
      "weighted avg       0.97      0.96      0.96       282\n",
      "\n"
     ]
    }
   ],
   "source": [
    "## Evalution Metrics:-\n",
    "\n",
    "eval_mat(y_test,y_pred_dt)"
   ]
  },
  {
   "cell_type": "code",
   "execution_count": 25,
   "id": "90afdbef",
   "metadata": {},
   "outputs": [],
   "source": [
    "fn=x_train.columns\n",
    "cn=['Yes','No']  ## here 0= Yes and 1= No"
   ]
  },
  {
   "cell_type": "markdown",
   "id": "1a968629",
   "metadata": {},
   "source": [
    "### Ensemble as Bagging Classifier Model:-"
   ]
  },
  {
   "cell_type": "code",
   "execution_count": 26,
   "id": "4f6487df",
   "metadata": {},
   "outputs": [
    {
     "data": {
      "text/html": [
       "<style>#sk-container-id-4 {color: black;}#sk-container-id-4 pre{padding: 0;}#sk-container-id-4 div.sk-toggleable {background-color: white;}#sk-container-id-4 label.sk-toggleable__label {cursor: pointer;display: block;width: 100%;margin-bottom: 0;padding: 0.3em;box-sizing: border-box;text-align: center;}#sk-container-id-4 label.sk-toggleable__label-arrow:before {content: \"▸\";float: left;margin-right: 0.25em;color: #696969;}#sk-container-id-4 label.sk-toggleable__label-arrow:hover:before {color: black;}#sk-container-id-4 div.sk-estimator:hover label.sk-toggleable__label-arrow:before {color: black;}#sk-container-id-4 div.sk-toggleable__content {max-height: 0;max-width: 0;overflow: hidden;text-align: left;background-color: #f0f8ff;}#sk-container-id-4 div.sk-toggleable__content pre {margin: 0.2em;color: black;border-radius: 0.25em;background-color: #f0f8ff;}#sk-container-id-4 input.sk-toggleable__control:checked~div.sk-toggleable__content {max-height: 200px;max-width: 100%;overflow: auto;}#sk-container-id-4 input.sk-toggleable__control:checked~label.sk-toggleable__label-arrow:before {content: \"▾\";}#sk-container-id-4 div.sk-estimator input.sk-toggleable__control:checked~label.sk-toggleable__label {background-color: #d4ebff;}#sk-container-id-4 div.sk-label input.sk-toggleable__control:checked~label.sk-toggleable__label {background-color: #d4ebff;}#sk-container-id-4 input.sk-hidden--visually {border: 0;clip: rect(1px 1px 1px 1px);clip: rect(1px, 1px, 1px, 1px);height: 1px;margin: -1px;overflow: hidden;padding: 0;position: absolute;width: 1px;}#sk-container-id-4 div.sk-estimator {font-family: monospace;background-color: #f0f8ff;border: 1px dotted black;border-radius: 0.25em;box-sizing: border-box;margin-bottom: 0.5em;}#sk-container-id-4 div.sk-estimator:hover {background-color: #d4ebff;}#sk-container-id-4 div.sk-parallel-item::after {content: \"\";width: 100%;border-bottom: 1px solid gray;flex-grow: 1;}#sk-container-id-4 div.sk-label:hover label.sk-toggleable__label {background-color: #d4ebff;}#sk-container-id-4 div.sk-serial::before {content: \"\";position: absolute;border-left: 1px solid gray;box-sizing: border-box;top: 0;bottom: 0;left: 50%;z-index: 0;}#sk-container-id-4 div.sk-serial {display: flex;flex-direction: column;align-items: center;background-color: white;padding-right: 0.2em;padding-left: 0.2em;position: relative;}#sk-container-id-4 div.sk-item {position: relative;z-index: 1;}#sk-container-id-4 div.sk-parallel {display: flex;align-items: stretch;justify-content: center;background-color: white;position: relative;}#sk-container-id-4 div.sk-item::before, #sk-container-id-4 div.sk-parallel-item::before {content: \"\";position: absolute;border-left: 1px solid gray;box-sizing: border-box;top: 0;bottom: 0;left: 50%;z-index: -1;}#sk-container-id-4 div.sk-parallel-item {display: flex;flex-direction: column;z-index: 1;position: relative;background-color: white;}#sk-container-id-4 div.sk-parallel-item:first-child::after {align-self: flex-end;width: 50%;}#sk-container-id-4 div.sk-parallel-item:last-child::after {align-self: flex-start;width: 50%;}#sk-container-id-4 div.sk-parallel-item:only-child::after {width: 0;}#sk-container-id-4 div.sk-dashed-wrapped {border: 1px dashed gray;margin: 0 0.4em 0.5em 0.4em;box-sizing: border-box;padding-bottom: 0.4em;background-color: white;}#sk-container-id-4 div.sk-label label {font-family: monospace;font-weight: bold;display: inline-block;line-height: 1.2em;}#sk-container-id-4 div.sk-label-container {text-align: center;}#sk-container-id-4 div.sk-container {/* jupyter's `normalize.less` sets `[hidden] { display: none; }` but bootstrap.min.css set `[hidden] { display: none !important; }` so we also need the `!important` here to be able to override the default hidden behavior on the sphinx rendered scikit-learn.org. See: https://github.com/scikit-learn/scikit-learn/issues/21755 */display: inline-block !important;position: relative;}#sk-container-id-4 div.sk-text-repr-fallback {display: none;}</style><div id=\"sk-container-id-4\" class=\"sk-top-container\"><div class=\"sk-text-repr-fallback\"><pre>BaggingClassifier(base_estimator=DecisionTreeClassifier(criterion=&#x27;entropy&#x27;,\n",
       "                                                        max_depth=15,\n",
       "                                                        min_samples_split=25),\n",
       "                  max_features=49, n_estimators=15, random_state=25)</pre><b>In a Jupyter environment, please rerun this cell to show the HTML representation or trust the notebook. <br />On GitHub, the HTML representation is unable to render, please try loading this page with nbviewer.org.</b></div><div class=\"sk-container\" hidden><div class=\"sk-item sk-dashed-wrapped\"><div class=\"sk-label-container\"><div class=\"sk-label sk-toggleable\"><input class=\"sk-toggleable__control sk-hidden--visually\" id=\"sk-estimator-id-4\" type=\"checkbox\" ><label for=\"sk-estimator-id-4\" class=\"sk-toggleable__label sk-toggleable__label-arrow\">BaggingClassifier</label><div class=\"sk-toggleable__content\"><pre>BaggingClassifier(base_estimator=DecisionTreeClassifier(criterion=&#x27;entropy&#x27;,\n",
       "                                                        max_depth=15,\n",
       "                                                        min_samples_split=25),\n",
       "                  max_features=49, n_estimators=15, random_state=25)</pre></div></div></div><div class=\"sk-parallel\"><div class=\"sk-parallel-item\"><div class=\"sk-item\"><div class=\"sk-label-container\"><div class=\"sk-label sk-toggleable\"><input class=\"sk-toggleable__control sk-hidden--visually\" id=\"sk-estimator-id-5\" type=\"checkbox\" ><label for=\"sk-estimator-id-5\" class=\"sk-toggleable__label sk-toggleable__label-arrow\">base_estimator: DecisionTreeClassifier</label><div class=\"sk-toggleable__content\"><pre>DecisionTreeClassifier(criterion=&#x27;entropy&#x27;, max_depth=15, min_samples_split=25)</pre></div></div></div><div class=\"sk-serial\"><div class=\"sk-item\"><div class=\"sk-estimator sk-toggleable\"><input class=\"sk-toggleable__control sk-hidden--visually\" id=\"sk-estimator-id-6\" type=\"checkbox\" ><label for=\"sk-estimator-id-6\" class=\"sk-toggleable__label sk-toggleable__label-arrow\">DecisionTreeClassifier</label><div class=\"sk-toggleable__content\"><pre>DecisionTreeClassifier(criterion=&#x27;entropy&#x27;, max_depth=15, min_samples_split=25)</pre></div></div></div></div></div></div></div></div></div></div>"
      ],
      "text/plain": [
       "BaggingClassifier(base_estimator=DecisionTreeClassifier(criterion='entropy',\n",
       "                                                        max_depth=15,\n",
       "                                                        min_samples_split=25),\n",
       "                  max_features=49, n_estimators=15, random_state=25)"
      ]
     },
     "execution_count": 26,
     "metadata": {},
     "output_type": "execute_result"
    }
   ],
   "source": [
    "ebc=BaggingClassifier(base_estimator=dt,n_estimators=15,max_features=x.shape[1],random_state=25)\n",
    "ebc.fit(x_train,y_train)"
   ]
  },
  {
   "cell_type": "code",
   "execution_count": 27,
   "id": "f3448efc",
   "metadata": {},
   "outputs": [
    {
     "name": "stdout",
     "output_type": "stream",
     "text": [
      "Training Score= 0.9725190839694656\n",
      "Testing Score= 0.950354609929078\n"
     ]
    }
   ],
   "source": [
    "## Model Score:-\n",
    "\n",
    "mscore(ebc)"
   ]
  },
  {
   "cell_type": "code",
   "execution_count": 28,
   "id": "92aed6f0",
   "metadata": {},
   "outputs": [
    {
     "name": "stdout",
     "output_type": "stream",
     "text": [
      "[0 0 0 0 0 0 0 0 0 0 0 0 1 0 0 0 0 0 0 0 0 0 0 0 0 0 0 0 0 0 0 0 0 0 0 0 0\n",
      " 0 0 0 0 0 0 0 0 0 0 0 0 0 0 0 0 0 0 0 0 0 0 0 0 0 0 0 0 1 0 0 0 0 0 1 0 0\n",
      " 0 0 0 0 0 0 0 0 0 0 0 0 0 0 0 0 0 0 0 0 0 0 0 0 0 0 0 0 0 0 0 0 0 0 0 1 0\n",
      " 0 0 0 0 0 0 0 0 0 0 0 0 0 0 0 0 0 0 0 0 0 0 0 0 0 0 0 0 0 0 0 0 0 0 0 0 0\n",
      " 0 0 0 0 0 0 0 0 0 0 0 0 0 0 0 0 0 0 0 0 0 0 0 0 0 0 0 0 0 0 0 0 0 0 0 0 0\n",
      " 0 0 0 0 0 0 0 0 0 0 0 0 0 0 0 0 0 0 0 0 0 0 0 0 0 0 0 0 0 0 0 0 0 0 0 1 0\n",
      " 0 0 0 0 1 1 0 0 0 0 0 0 0 0 0 0 0 0 0 0 0 0 0 0 0 0 0 0 0 0 0 0 0 0 0 0 0\n",
      " 0 1 0 0 0 0 0 0 0 0 0 0 0 0 0 0 0 0 0 0 0 0 1]\n"
     ]
    }
   ],
   "source": [
    "## Prediction on y values:-\n",
    "\n",
    "y_pred_ebc=ebc.predict(x_test)\n",
    "print(y_pred_ebc)"
   ]
  },
  {
   "cell_type": "code",
   "execution_count": 29,
   "id": "f795b797",
   "metadata": {},
   "outputs": [
    {
     "name": "stdout",
     "output_type": "stream",
     "text": [
      "Accuracy Score=0.950354609929078\n",
      "Confusion Matrix=[[266   7]\n",
      " [  7   2]]\n",
      "Classification Report               precision    recall  f1-score   support\n",
      "\n",
      "           0       0.97      0.97      0.97       273\n",
      "           1       0.22      0.22      0.22         9\n",
      "\n",
      "    accuracy                           0.95       282\n",
      "   macro avg       0.60      0.60      0.60       282\n",
      "weighted avg       0.95      0.95      0.95       282\n",
      "\n"
     ]
    }
   ],
   "source": [
    "## Evalution Metrics:-\n",
    "\n",
    "eval_mat(y_test,y_pred_ebc)"
   ]
  },
  {
   "cell_type": "markdown",
   "id": "32a22169",
   "metadata": {},
   "source": [
    "### Ensemble as Ada Boost Classifier Model:-"
   ]
  },
  {
   "cell_type": "code",
   "execution_count": 30,
   "id": "d77cfb59",
   "metadata": {},
   "outputs": [
    {
     "data": {
      "text/html": [
       "<style>#sk-container-id-5 {color: black;}#sk-container-id-5 pre{padding: 0;}#sk-container-id-5 div.sk-toggleable {background-color: white;}#sk-container-id-5 label.sk-toggleable__label {cursor: pointer;display: block;width: 100%;margin-bottom: 0;padding: 0.3em;box-sizing: border-box;text-align: center;}#sk-container-id-5 label.sk-toggleable__label-arrow:before {content: \"▸\";float: left;margin-right: 0.25em;color: #696969;}#sk-container-id-5 label.sk-toggleable__label-arrow:hover:before {color: black;}#sk-container-id-5 div.sk-estimator:hover label.sk-toggleable__label-arrow:before {color: black;}#sk-container-id-5 div.sk-toggleable__content {max-height: 0;max-width: 0;overflow: hidden;text-align: left;background-color: #f0f8ff;}#sk-container-id-5 div.sk-toggleable__content pre {margin: 0.2em;color: black;border-radius: 0.25em;background-color: #f0f8ff;}#sk-container-id-5 input.sk-toggleable__control:checked~div.sk-toggleable__content {max-height: 200px;max-width: 100%;overflow: auto;}#sk-container-id-5 input.sk-toggleable__control:checked~label.sk-toggleable__label-arrow:before {content: \"▾\";}#sk-container-id-5 div.sk-estimator input.sk-toggleable__control:checked~label.sk-toggleable__label {background-color: #d4ebff;}#sk-container-id-5 div.sk-label input.sk-toggleable__control:checked~label.sk-toggleable__label {background-color: #d4ebff;}#sk-container-id-5 input.sk-hidden--visually {border: 0;clip: rect(1px 1px 1px 1px);clip: rect(1px, 1px, 1px, 1px);height: 1px;margin: -1px;overflow: hidden;padding: 0;position: absolute;width: 1px;}#sk-container-id-5 div.sk-estimator {font-family: monospace;background-color: #f0f8ff;border: 1px dotted black;border-radius: 0.25em;box-sizing: border-box;margin-bottom: 0.5em;}#sk-container-id-5 div.sk-estimator:hover {background-color: #d4ebff;}#sk-container-id-5 div.sk-parallel-item::after {content: \"\";width: 100%;border-bottom: 1px solid gray;flex-grow: 1;}#sk-container-id-5 div.sk-label:hover label.sk-toggleable__label {background-color: #d4ebff;}#sk-container-id-5 div.sk-serial::before {content: \"\";position: absolute;border-left: 1px solid gray;box-sizing: border-box;top: 0;bottom: 0;left: 50%;z-index: 0;}#sk-container-id-5 div.sk-serial {display: flex;flex-direction: column;align-items: center;background-color: white;padding-right: 0.2em;padding-left: 0.2em;position: relative;}#sk-container-id-5 div.sk-item {position: relative;z-index: 1;}#sk-container-id-5 div.sk-parallel {display: flex;align-items: stretch;justify-content: center;background-color: white;position: relative;}#sk-container-id-5 div.sk-item::before, #sk-container-id-5 div.sk-parallel-item::before {content: \"\";position: absolute;border-left: 1px solid gray;box-sizing: border-box;top: 0;bottom: 0;left: 50%;z-index: -1;}#sk-container-id-5 div.sk-parallel-item {display: flex;flex-direction: column;z-index: 1;position: relative;background-color: white;}#sk-container-id-5 div.sk-parallel-item:first-child::after {align-self: flex-end;width: 50%;}#sk-container-id-5 div.sk-parallel-item:last-child::after {align-self: flex-start;width: 50%;}#sk-container-id-5 div.sk-parallel-item:only-child::after {width: 0;}#sk-container-id-5 div.sk-dashed-wrapped {border: 1px dashed gray;margin: 0 0.4em 0.5em 0.4em;box-sizing: border-box;padding-bottom: 0.4em;background-color: white;}#sk-container-id-5 div.sk-label label {font-family: monospace;font-weight: bold;display: inline-block;line-height: 1.2em;}#sk-container-id-5 div.sk-label-container {text-align: center;}#sk-container-id-5 div.sk-container {/* jupyter's `normalize.less` sets `[hidden] { display: none; }` but bootstrap.min.css set `[hidden] { display: none !important; }` so we also need the `!important` here to be able to override the default hidden behavior on the sphinx rendered scikit-learn.org. See: https://github.com/scikit-learn/scikit-learn/issues/21755 */display: inline-block !important;position: relative;}#sk-container-id-5 div.sk-text-repr-fallback {display: none;}</style><div id=\"sk-container-id-5\" class=\"sk-top-container\"><div class=\"sk-text-repr-fallback\"><pre>AdaBoostClassifier(base_estimator=DecisionTreeClassifier(criterion=&#x27;entropy&#x27;,\n",
       "                                                         max_depth=15,\n",
       "                                                         min_samples_split=25),\n",
       "                   n_estimators=1)</pre><b>In a Jupyter environment, please rerun this cell to show the HTML representation or trust the notebook. <br />On GitHub, the HTML representation is unable to render, please try loading this page with nbviewer.org.</b></div><div class=\"sk-container\" hidden><div class=\"sk-item sk-dashed-wrapped\"><div class=\"sk-label-container\"><div class=\"sk-label sk-toggleable\"><input class=\"sk-toggleable__control sk-hidden--visually\" id=\"sk-estimator-id-7\" type=\"checkbox\" ><label for=\"sk-estimator-id-7\" class=\"sk-toggleable__label sk-toggleable__label-arrow\">AdaBoostClassifier</label><div class=\"sk-toggleable__content\"><pre>AdaBoostClassifier(base_estimator=DecisionTreeClassifier(criterion=&#x27;entropy&#x27;,\n",
       "                                                         max_depth=15,\n",
       "                                                         min_samples_split=25),\n",
       "                   n_estimators=1)</pre></div></div></div><div class=\"sk-parallel\"><div class=\"sk-parallel-item\"><div class=\"sk-item\"><div class=\"sk-label-container\"><div class=\"sk-label sk-toggleable\"><input class=\"sk-toggleable__control sk-hidden--visually\" id=\"sk-estimator-id-8\" type=\"checkbox\" ><label for=\"sk-estimator-id-8\" class=\"sk-toggleable__label sk-toggleable__label-arrow\">base_estimator: DecisionTreeClassifier</label><div class=\"sk-toggleable__content\"><pre>DecisionTreeClassifier(criterion=&#x27;entropy&#x27;, max_depth=15, min_samples_split=25)</pre></div></div></div><div class=\"sk-serial\"><div class=\"sk-item\"><div class=\"sk-estimator sk-toggleable\"><input class=\"sk-toggleable__control sk-hidden--visually\" id=\"sk-estimator-id-9\" type=\"checkbox\" ><label for=\"sk-estimator-id-9\" class=\"sk-toggleable__label sk-toggleable__label-arrow\">DecisionTreeClassifier</label><div class=\"sk-toggleable__content\"><pre>DecisionTreeClassifier(criterion=&#x27;entropy&#x27;, max_depth=15, min_samples_split=25)</pre></div></div></div></div></div></div></div></div></div></div>"
      ],
      "text/plain": [
       "AdaBoostClassifier(base_estimator=DecisionTreeClassifier(criterion='entropy',\n",
       "                                                         max_depth=15,\n",
       "                                                         min_samples_split=25),\n",
       "                   n_estimators=1)"
      ]
     },
     "execution_count": 30,
     "metadata": {},
     "output_type": "execute_result"
    }
   ],
   "source": [
    "ada=AdaBoostClassifier(base_estimator=dt,n_estimators=1)\n",
    "ada.fit(x_train,y_train)"
   ]
  },
  {
   "cell_type": "code",
   "execution_count": 31,
   "id": "37cf8fdd",
   "metadata": {},
   "outputs": [
    {
     "name": "stdout",
     "output_type": "stream",
     "text": [
      "Training Score= 0.9740458015267176\n",
      "Testing Score= 0.9609929078014184\n"
     ]
    }
   ],
   "source": [
    "## Model Score:-\n",
    "\n",
    "mscore(ada)"
   ]
  },
  {
   "cell_type": "code",
   "execution_count": 32,
   "id": "20cac65c",
   "metadata": {},
   "outputs": [
    {
     "name": "stdout",
     "output_type": "stream",
     "text": [
      "[0 0 0 0 0 0 0 0 0 0 0 0 1 0 0 0 0 0 0 0 0 0 0 0 0 0 1 0 0 0 0 0 0 0 0 0 0\n",
      " 0 0 0 1 0 0 0 0 0 0 0 0 0 0 0 0 0 0 0 0 0 0 0 0 0 0 0 0 0 0 0 0 0 0 0 0 0\n",
      " 1 0 0 0 0 0 0 0 0 0 0 0 0 0 0 0 0 0 0 0 0 0 0 0 0 0 1 0 0 0 0 0 0 0 0 1 0\n",
      " 0 0 0 0 0 0 0 0 0 0 0 0 0 0 0 0 0 0 0 0 0 0 0 0 0 0 0 0 0 0 0 0 0 0 0 0 0\n",
      " 0 0 0 0 0 0 0 0 0 0 0 0 0 0 0 0 0 0 0 0 0 0 0 0 0 0 0 0 0 0 1 0 0 0 0 0 0\n",
      " 0 0 0 0 0 0 0 0 0 0 0 0 0 0 0 0 0 0 0 0 0 0 1 0 0 0 0 0 1 0 0 0 0 0 0 0 0\n",
      " 0 0 0 0 0 1 0 0 0 0 0 0 0 0 0 0 0 0 0 0 0 0 0 0 0 0 0 0 0 0 0 0 0 0 0 0 0\n",
      " 0 1 0 0 0 0 0 0 0 0 0 0 0 0 0 0 0 0 0 0 0 0 1]\n"
     ]
    }
   ],
   "source": [
    "## Prediction on y values:-\n",
    "\n",
    "y_pred_ada=ada.predict(x_test)\n",
    "print(y_pred_ada)"
   ]
  },
  {
   "cell_type": "code",
   "execution_count": 33,
   "id": "4531c74e",
   "metadata": {},
   "outputs": [
    {
     "name": "stdout",
     "output_type": "stream",
     "text": [
      "Accuracy Score=0.9609929078014184\n",
      "Confusion Matrix=[[266   7]\n",
      " [  4   5]]\n",
      "Classification Report               precision    recall  f1-score   support\n",
      "\n",
      "           0       0.99      0.97      0.98       273\n",
      "           1       0.42      0.56      0.48         9\n",
      "\n",
      "    accuracy                           0.96       282\n",
      "   macro avg       0.70      0.76      0.73       282\n",
      "weighted avg       0.97      0.96      0.96       282\n",
      "\n"
     ]
    }
   ],
   "source": [
    "## Evalution Metrics:-\n",
    "\n",
    "eval_mat(y_test,y_pred_ada)"
   ]
  },
  {
   "cell_type": "markdown",
   "id": "136faafc",
   "metadata": {},
   "source": [
    "## Checking best model:-"
   ]
  },
  {
   "cell_type": "markdown",
   "id": "8e937cfd",
   "metadata": {},
   "source": [
    "## Best Models are Decision Tree and AdaBoost Classifier\n",
    "## So selecting AdaBoost Classifier as a Best Model:"
   ]
  },
  {
   "cell_type": "code",
   "execution_count": 34,
   "id": "78e437d9",
   "metadata": {},
   "outputs": [
    {
     "data": {
      "text/html": [
       "<div>\n",
       "<style scoped>\n",
       "    .dataframe tbody tr th:only-of-type {\n",
       "        vertical-align: middle;\n",
       "    }\n",
       "\n",
       "    .dataframe tbody tr th {\n",
       "        vertical-align: top;\n",
       "    }\n",
       "\n",
       "    .dataframe thead th {\n",
       "        text-align: right;\n",
       "    }\n",
       "</style>\n",
       "<table border=\"1\" class=\"dataframe\">\n",
       "  <thead>\n",
       "    <tr style=\"text-align: right;\">\n",
       "      <th></th>\n",
       "      <th>f_1</th>\n",
       "      <th>f_2</th>\n",
       "      <th>f_3</th>\n",
       "      <th>f_4</th>\n",
       "      <th>f_5</th>\n",
       "      <th>f_6</th>\n",
       "      <th>f_7</th>\n",
       "      <th>f_8</th>\n",
       "      <th>f_9</th>\n",
       "      <th>f_10</th>\n",
       "      <th>...</th>\n",
       "      <th>f_42</th>\n",
       "      <th>f_43</th>\n",
       "      <th>f_44</th>\n",
       "      <th>f_45</th>\n",
       "      <th>f_46</th>\n",
       "      <th>f_47</th>\n",
       "      <th>f_48</th>\n",
       "      <th>f_49</th>\n",
       "      <th>target</th>\n",
       "      <th>y_pred</th>\n",
       "    </tr>\n",
       "  </thead>\n",
       "  <tbody>\n",
       "    <tr>\n",
       "      <th>0</th>\n",
       "      <td>1</td>\n",
       "      <td>2558</td>\n",
       "      <td>1506.09</td>\n",
       "      <td>456.63</td>\n",
       "      <td>90</td>\n",
       "      <td>6395000</td>\n",
       "      <td>40.88</td>\n",
       "      <td>7.89</td>\n",
       "      <td>29780.0</td>\n",
       "      <td>0.19</td>\n",
       "      <td>...</td>\n",
       "      <td>1000.00</td>\n",
       "      <td>763.16</td>\n",
       "      <td>135.46</td>\n",
       "      <td>3.73</td>\n",
       "      <td>0</td>\n",
       "      <td>33243.19</td>\n",
       "      <td>65.74</td>\n",
       "      <td>7.95</td>\n",
       "      <td>1</td>\n",
       "      <td>1</td>\n",
       "    </tr>\n",
       "    <tr>\n",
       "      <th>1</th>\n",
       "      <td>2</td>\n",
       "      <td>22325</td>\n",
       "      <td>79.11</td>\n",
       "      <td>841.03</td>\n",
       "      <td>180</td>\n",
       "      <td>55812500</td>\n",
       "      <td>51.11</td>\n",
       "      <td>1.21</td>\n",
       "      <td>61900.0</td>\n",
       "      <td>0.02</td>\n",
       "      <td>...</td>\n",
       "      <td>11500.00</td>\n",
       "      <td>9593.48</td>\n",
       "      <td>1648.80</td>\n",
       "      <td>0.60</td>\n",
       "      <td>0</td>\n",
       "      <td>51572.04</td>\n",
       "      <td>65.73</td>\n",
       "      <td>6.26</td>\n",
       "      <td>0</td>\n",
       "      <td>0</td>\n",
       "    </tr>\n",
       "    <tr>\n",
       "      <th>2</th>\n",
       "      <td>3</td>\n",
       "      <td>115</td>\n",
       "      <td>1449.85</td>\n",
       "      <td>608.43</td>\n",
       "      <td>88</td>\n",
       "      <td>287500</td>\n",
       "      <td>40.42</td>\n",
       "      <td>7.34</td>\n",
       "      <td>3340.0</td>\n",
       "      <td>0.18</td>\n",
       "      <td>...</td>\n",
       "      <td>250.00</td>\n",
       "      <td>150.00</td>\n",
       "      <td>45.13</td>\n",
       "      <td>9.33</td>\n",
       "      <td>1</td>\n",
       "      <td>31692.84</td>\n",
       "      <td>65.81</td>\n",
       "      <td>7.84</td>\n",
       "      <td>1</td>\n",
       "      <td>1</td>\n",
       "    </tr>\n",
       "    <tr>\n",
       "      <th>3</th>\n",
       "      <td>4</td>\n",
       "      <td>1201</td>\n",
       "      <td>1562.53</td>\n",
       "      <td>295.65</td>\n",
       "      <td>66</td>\n",
       "      <td>3002500</td>\n",
       "      <td>42.40</td>\n",
       "      <td>7.97</td>\n",
       "      <td>18030.0</td>\n",
       "      <td>0.19</td>\n",
       "      <td>...</td>\n",
       "      <td>761.58</td>\n",
       "      <td>453.21</td>\n",
       "      <td>144.97</td>\n",
       "      <td>13.33</td>\n",
       "      <td>1</td>\n",
       "      <td>37696.21</td>\n",
       "      <td>65.67</td>\n",
       "      <td>8.07</td>\n",
       "      <td>1</td>\n",
       "      <td>1</td>\n",
       "    </tr>\n",
       "    <tr>\n",
       "      <th>4</th>\n",
       "      <td>5</td>\n",
       "      <td>312</td>\n",
       "      <td>950.27</td>\n",
       "      <td>440.86</td>\n",
       "      <td>37</td>\n",
       "      <td>780000</td>\n",
       "      <td>41.43</td>\n",
       "      <td>7.03</td>\n",
       "      <td>3350.0</td>\n",
       "      <td>0.17</td>\n",
       "      <td>...</td>\n",
       "      <td>710.63</td>\n",
       "      <td>512.54</td>\n",
       "      <td>109.16</td>\n",
       "      <td>2.58</td>\n",
       "      <td>0</td>\n",
       "      <td>29038.17</td>\n",
       "      <td>65.66</td>\n",
       "      <td>7.35</td>\n",
       "      <td>0</td>\n",
       "      <td>1</td>\n",
       "    </tr>\n",
       "    <tr>\n",
       "      <th>5</th>\n",
       "      <td>6</td>\n",
       "      <td>54</td>\n",
       "      <td>1438.13</td>\n",
       "      <td>544.91</td>\n",
       "      <td>82</td>\n",
       "      <td>135000</td>\n",
       "      <td>44.67</td>\n",
       "      <td>6.92</td>\n",
       "      <td>1570.0</td>\n",
       "      <td>0.15</td>\n",
       "      <td>...</td>\n",
       "      <td>200.00</td>\n",
       "      <td>150.00</td>\n",
       "      <td>52.22</td>\n",
       "      <td>4.06</td>\n",
       "      <td>0</td>\n",
       "      <td>30967.25</td>\n",
       "      <td>65.77</td>\n",
       "      <td>7.85</td>\n",
       "      <td>1</td>\n",
       "      <td>1</td>\n",
       "    </tr>\n",
       "    <tr>\n",
       "      <th>6</th>\n",
       "      <td>7</td>\n",
       "      <td>116</td>\n",
       "      <td>1446.29</td>\n",
       "      <td>580.94</td>\n",
       "      <td>97</td>\n",
       "      <td>290000</td>\n",
       "      <td>41.53</td>\n",
       "      <td>6.24</td>\n",
       "      <td>3660.0</td>\n",
       "      <td>0.15</td>\n",
       "      <td>...</td>\n",
       "      <td>403.11</td>\n",
       "      <td>164.58</td>\n",
       "      <td>114.82</td>\n",
       "      <td>6.44</td>\n",
       "      <td>0</td>\n",
       "      <td>31258.37</td>\n",
       "      <td>65.79</td>\n",
       "      <td>7.85</td>\n",
       "      <td>1</td>\n",
       "      <td>1</td>\n",
       "    </tr>\n",
       "    <tr>\n",
       "      <th>7</th>\n",
       "      <td>8</td>\n",
       "      <td>57</td>\n",
       "      <td>28.68</td>\n",
       "      <td>715.39</td>\n",
       "      <td>141</td>\n",
       "      <td>142500</td>\n",
       "      <td>51.67</td>\n",
       "      <td>0.83</td>\n",
       "      <td>1810.0</td>\n",
       "      <td>0.02</td>\n",
       "      <td>...</td>\n",
       "      <td>360.56</td>\n",
       "      <td>165.71</td>\n",
       "      <td>132.47</td>\n",
       "      <td>3.02</td>\n",
       "      <td>0</td>\n",
       "      <td>51985.06</td>\n",
       "      <td>65.67</td>\n",
       "      <td>6.25</td>\n",
       "      <td>0</td>\n",
       "      <td>0</td>\n",
       "    </tr>\n",
       "    <tr>\n",
       "      <th>8</th>\n",
       "      <td>9</td>\n",
       "      <td>188</td>\n",
       "      <td>964.23</td>\n",
       "      <td>456.23</td>\n",
       "      <td>22</td>\n",
       "      <td>470000</td>\n",
       "      <td>38.90</td>\n",
       "      <td>5.89</td>\n",
       "      <td>3720.0</td>\n",
       "      <td>0.15</td>\n",
       "      <td>...</td>\n",
       "      <td>492.44</td>\n",
       "      <td>256.77</td>\n",
       "      <td>124.72</td>\n",
       "      <td>6.11</td>\n",
       "      <td>0</td>\n",
       "      <td>28871.82</td>\n",
       "      <td>65.67</td>\n",
       "      <td>7.36</td>\n",
       "      <td>1</td>\n",
       "      <td>1</td>\n",
       "    </tr>\n",
       "    <tr>\n",
       "      <th>9</th>\n",
       "      <td>10</td>\n",
       "      <td>64</td>\n",
       "      <td>903.02</td>\n",
       "      <td>274.88</td>\n",
       "      <td>33</td>\n",
       "      <td>160000</td>\n",
       "      <td>41.22</td>\n",
       "      <td>7.90</td>\n",
       "      <td>1850.0</td>\n",
       "      <td>0.19</td>\n",
       "      <td>...</td>\n",
       "      <td>223.61</td>\n",
       "      <td>182.83</td>\n",
       "      <td>50.12</td>\n",
       "      <td>2.58</td>\n",
       "      <td>0</td>\n",
       "      <td>32053.95</td>\n",
       "      <td>65.58</td>\n",
       "      <td>7.35</td>\n",
       "      <td>1</td>\n",
       "      <td>1</td>\n",
       "    </tr>\n",
       "  </tbody>\n",
       "</table>\n",
       "<p>10 rows × 51 columns</p>\n",
       "</div>"
      ],
      "text/plain": [
       "   f_1    f_2      f_3     f_4  f_5       f_6    f_7   f_8      f_9  f_10  \\\n",
       "0    1   2558  1506.09  456.63   90   6395000  40.88  7.89  29780.0  0.19   \n",
       "1    2  22325    79.11  841.03  180  55812500  51.11  1.21  61900.0  0.02   \n",
       "2    3    115  1449.85  608.43   88    287500  40.42  7.34   3340.0  0.18   \n",
       "3    4   1201  1562.53  295.65   66   3002500  42.40  7.97  18030.0  0.19   \n",
       "4    5    312   950.27  440.86   37    780000  41.43  7.03   3350.0  0.17   \n",
       "5    6     54  1438.13  544.91   82    135000  44.67  6.92   1570.0  0.15   \n",
       "6    7    116  1446.29  580.94   97    290000  41.53  6.24   3660.0  0.15   \n",
       "7    8     57    28.68  715.39  141    142500  51.67  0.83   1810.0  0.02   \n",
       "8    9    188   964.23  456.23   22    470000  38.90  5.89   3720.0  0.15   \n",
       "9   10     64   903.02  274.88   33    160000  41.22  7.90   1850.0  0.19   \n",
       "\n",
       "   ...      f_42     f_43     f_44   f_45  f_46      f_47   f_48  f_49  \\\n",
       "0  ...   1000.00   763.16   135.46   3.73     0  33243.19  65.74  7.95   \n",
       "1  ...  11500.00  9593.48  1648.80   0.60     0  51572.04  65.73  6.26   \n",
       "2  ...    250.00   150.00    45.13   9.33     1  31692.84  65.81  7.84   \n",
       "3  ...    761.58   453.21   144.97  13.33     1  37696.21  65.67  8.07   \n",
       "4  ...    710.63   512.54   109.16   2.58     0  29038.17  65.66  7.35   \n",
       "5  ...    200.00   150.00    52.22   4.06     0  30967.25  65.77  7.85   \n",
       "6  ...    403.11   164.58   114.82   6.44     0  31258.37  65.79  7.85   \n",
       "7  ...    360.56   165.71   132.47   3.02     0  51985.06  65.67  6.25   \n",
       "8  ...    492.44   256.77   124.72   6.11     0  28871.82  65.67  7.36   \n",
       "9  ...    223.61   182.83    50.12   2.58     0  32053.95  65.58  7.35   \n",
       "\n",
       "   target  y_pred  \n",
       "0       1       1  \n",
       "1       0       0  \n",
       "2       1       1  \n",
       "3       1       1  \n",
       "4       0       1  \n",
       "5       1       1  \n",
       "6       1       1  \n",
       "7       0       0  \n",
       "8       1       1  \n",
       "9       1       1  \n",
       "\n",
       "[10 rows x 51 columns]"
      ]
     },
     "execution_count": 34,
     "metadata": {},
     "output_type": "execute_result"
    }
   ],
   "source": [
    "## Adding the prediction feature Y_pred_ada of best model in the given data:-\n",
    "\n",
    "df['y_pred']=ada.predict(x)\n",
    "df.head(10)"
   ]
  },
  {
   "cell_type": "markdown",
   "id": "70935320",
   "metadata": {},
   "source": [
    "### Saving the best Model"
   ]
  },
  {
   "cell_type": "code",
   "execution_count": 35,
   "id": "66413f8f",
   "metadata": {},
   "outputs": [],
   "source": [
    "import pickle"
   ]
  },
  {
   "cell_type": "markdown",
   "id": "27d3a047",
   "metadata": {},
   "source": [
    "### Saving the Model:-"
   ]
  },
  {
   "cell_type": "code",
   "execution_count": 36,
   "id": "39cb10f9",
   "metadata": {},
   "outputs": [],
   "source": [
    "pickle.dump(ada,open('ada.pkl','wb'))"
   ]
  },
  {
   "cell_type": "markdown",
   "id": "0e3f7f3d",
   "metadata": {},
   "source": [
    "## Selecting the random 20 datasets from given data:-"
   ]
  },
  {
   "cell_type": "code",
   "execution_count": 37,
   "id": "5a7a9134",
   "metadata": {},
   "outputs": [
    {
     "data": {
      "text/html": [
       "<div>\n",
       "<style scoped>\n",
       "    .dataframe tbody tr th:only-of-type {\n",
       "        vertical-align: middle;\n",
       "    }\n",
       "\n",
       "    .dataframe tbody tr th {\n",
       "        vertical-align: top;\n",
       "    }\n",
       "\n",
       "    .dataframe thead th {\n",
       "        text-align: right;\n",
       "    }\n",
       "</style>\n",
       "<table border=\"1\" class=\"dataframe\">\n",
       "  <thead>\n",
       "    <tr style=\"text-align: right;\">\n",
       "      <th></th>\n",
       "      <th>f_1</th>\n",
       "      <th>f_2</th>\n",
       "      <th>f_3</th>\n",
       "      <th>f_4</th>\n",
       "      <th>f_5</th>\n",
       "      <th>f_6</th>\n",
       "      <th>f_7</th>\n",
       "      <th>f_8</th>\n",
       "      <th>f_9</th>\n",
       "      <th>f_10</th>\n",
       "      <th>...</th>\n",
       "      <th>f_42</th>\n",
       "      <th>f_43</th>\n",
       "      <th>f_44</th>\n",
       "      <th>f_45</th>\n",
       "      <th>f_46</th>\n",
       "      <th>f_47</th>\n",
       "      <th>f_48</th>\n",
       "      <th>f_49</th>\n",
       "      <th>target</th>\n",
       "      <th>y_pred</th>\n",
       "    </tr>\n",
       "  </thead>\n",
       "  <tbody>\n",
       "    <tr>\n",
       "      <th>670</th>\n",
       "      <td>23</td>\n",
       "      <td>29</td>\n",
       "      <td>146.31</td>\n",
       "      <td>614.24</td>\n",
       "      <td>148</td>\n",
       "      <td>234900</td>\n",
       "      <td>74.55</td>\n",
       "      <td>11.46</td>\n",
       "      <td>2345.0</td>\n",
       "      <td>0.15</td>\n",
       "      <td>...</td>\n",
       "      <td>127.28</td>\n",
       "      <td>101.82</td>\n",
       "      <td>53.67</td>\n",
       "      <td>10.31</td>\n",
       "      <td>1</td>\n",
       "      <td>3872.54</td>\n",
       "      <td>66.20</td>\n",
       "      <td>6.31</td>\n",
       "      <td>0</td>\n",
       "      <td>0</td>\n",
       "    </tr>\n",
       "    <tr>\n",
       "      <th>671</th>\n",
       "      <td>24</td>\n",
       "      <td>59</td>\n",
       "      <td>83.12</td>\n",
       "      <td>594.59</td>\n",
       "      <td>171</td>\n",
       "      <td>477900</td>\n",
       "      <td>70.07</td>\n",
       "      <td>12.78</td>\n",
       "      <td>3864.0</td>\n",
       "      <td>0.18</td>\n",
       "      <td>...</td>\n",
       "      <td>458.91</td>\n",
       "      <td>238.49</td>\n",
       "      <td>136.01</td>\n",
       "      <td>5.34</td>\n",
       "      <td>0</td>\n",
       "      <td>3607.63</td>\n",
       "      <td>66.15</td>\n",
       "      <td>6.13</td>\n",
       "      <td>0</td>\n",
       "      <td>0</td>\n",
       "    </tr>\n",
       "    <tr>\n",
       "      <th>672</th>\n",
       "      <td>25</td>\n",
       "      <td>18</td>\n",
       "      <td>334.39</td>\n",
       "      <td>659.11</td>\n",
       "      <td>175</td>\n",
       "      <td>145800</td>\n",
       "      <td>66.50</td>\n",
       "      <td>9.80</td>\n",
       "      <td>1461.0</td>\n",
       "      <td>0.15</td>\n",
       "      <td>...</td>\n",
       "      <td>180.00</td>\n",
       "      <td>115.71</td>\n",
       "      <td>43.92</td>\n",
       "      <td>5.44</td>\n",
       "      <td>0</td>\n",
       "      <td>15866.20</td>\n",
       "      <td>66.33</td>\n",
       "      <td>6.86</td>\n",
       "      <td>0</td>\n",
       "      <td>0</td>\n",
       "    </tr>\n",
       "    <tr>\n",
       "      <th>673</th>\n",
       "      <td>26</td>\n",
       "      <td>31</td>\n",
       "      <td>3.77</td>\n",
       "      <td>478.87</td>\n",
       "      <td>75</td>\n",
       "      <td>251100</td>\n",
       "      <td>70.06</td>\n",
       "      <td>16.34</td>\n",
       "      <td>1715.0</td>\n",
       "      <td>0.23</td>\n",
       "      <td>...</td>\n",
       "      <td>371.08</td>\n",
       "      <td>194.46</td>\n",
       "      <td>105.68</td>\n",
       "      <td>3.82</td>\n",
       "      <td>0</td>\n",
       "      <td>6024.62</td>\n",
       "      <td>65.97</td>\n",
       "      <td>6.00</td>\n",
       "      <td>0</td>\n",
       "      <td>0</td>\n",
       "    </tr>\n",
       "    <tr>\n",
       "      <th>674</th>\n",
       "      <td>27</td>\n",
       "      <td>33</td>\n",
       "      <td>7.70</td>\n",
       "      <td>512.15</td>\n",
       "      <td>90</td>\n",
       "      <td>267300</td>\n",
       "      <td>74.64</td>\n",
       "      <td>9.45</td>\n",
       "      <td>2530.0</td>\n",
       "      <td>0.13</td>\n",
       "      <td>...</td>\n",
       "      <td>270.00</td>\n",
       "      <td>180.00</td>\n",
       "      <td>48.11</td>\n",
       "      <td>4.00</td>\n",
       "      <td>0</td>\n",
       "      <td>4384.37</td>\n",
       "      <td>66.01</td>\n",
       "      <td>5.97</td>\n",
       "      <td>0</td>\n",
       "      <td>0</td>\n",
       "    </tr>\n",
       "    <tr>\n",
       "      <th>675</th>\n",
       "      <td>28</td>\n",
       "      <td>48</td>\n",
       "      <td>122.65</td>\n",
       "      <td>533.54</td>\n",
       "      <td>149</td>\n",
       "      <td>388800</td>\n",
       "      <td>65.94</td>\n",
       "      <td>18.26</td>\n",
       "      <td>3054.0</td>\n",
       "      <td>0.28</td>\n",
       "      <td>...</td>\n",
       "      <td>324.50</td>\n",
       "      <td>193.37</td>\n",
       "      <td>90.99</td>\n",
       "      <td>6.07</td>\n",
       "      <td>0</td>\n",
       "      <td>5398.79</td>\n",
       "      <td>66.08</td>\n",
       "      <td>6.32</td>\n",
       "      <td>0</td>\n",
       "      <td>0</td>\n",
       "    </tr>\n",
       "    <tr>\n",
       "      <th>676</th>\n",
       "      <td>29</td>\n",
       "      <td>32</td>\n",
       "      <td>74.66</td>\n",
       "      <td>543.84</td>\n",
       "      <td>168</td>\n",
       "      <td>259200</td>\n",
       "      <td>70.25</td>\n",
       "      <td>11.38</td>\n",
       "      <td>2345.0</td>\n",
       "      <td>0.16</td>\n",
       "      <td>...</td>\n",
       "      <td>270.00</td>\n",
       "      <td>142.50</td>\n",
       "      <td>60.17</td>\n",
       "      <td>7.81</td>\n",
       "      <td>0</td>\n",
       "      <td>4320.54</td>\n",
       "      <td>66.08</td>\n",
       "      <td>6.15</td>\n",
       "      <td>0</td>\n",
       "      <td>0</td>\n",
       "    </tr>\n",
       "    <tr>\n",
       "      <th>677</th>\n",
       "      <td>30</td>\n",
       "      <td>23</td>\n",
       "      <td>653.70</td>\n",
       "      <td>454.48</td>\n",
       "      <td>140</td>\n",
       "      <td>186300</td>\n",
       "      <td>67.09</td>\n",
       "      <td>15.62</td>\n",
       "      <td>1392.0</td>\n",
       "      <td>0.23</td>\n",
       "      <td>...</td>\n",
       "      <td>254.56</td>\n",
       "      <td>159.10</td>\n",
       "      <td>63.64</td>\n",
       "      <td>3.20</td>\n",
       "      <td>0</td>\n",
       "      <td>33913.51</td>\n",
       "      <td>66.18</td>\n",
       "      <td>8.08</td>\n",
       "      <td>0</td>\n",
       "      <td>1</td>\n",
       "    </tr>\n",
       "    <tr>\n",
       "      <th>678</th>\n",
       "      <td>31</td>\n",
       "      <td>15</td>\n",
       "      <td>149.80</td>\n",
       "      <td>663.07</td>\n",
       "      <td>151</td>\n",
       "      <td>121500</td>\n",
       "      <td>62.73</td>\n",
       "      <td>13.86</td>\n",
       "      <td>1101.0</td>\n",
       "      <td>0.22</td>\n",
       "      <td>...</td>\n",
       "      <td>127.28</td>\n",
       "      <td>127.28</td>\n",
       "      <td>0.00</td>\n",
       "      <td>4.12</td>\n",
       "      <td>0</td>\n",
       "      <td>4529.54</td>\n",
       "      <td>66.27</td>\n",
       "      <td>6.27</td>\n",
       "      <td>0</td>\n",
       "      <td>0</td>\n",
       "    </tr>\n",
       "    <tr>\n",
       "      <th>679</th>\n",
       "      <td>32</td>\n",
       "      <td>31</td>\n",
       "      <td>45.94</td>\n",
       "      <td>613.35</td>\n",
       "      <td>6</td>\n",
       "      <td>251100</td>\n",
       "      <td>72.68</td>\n",
       "      <td>9.09</td>\n",
       "      <td>1535.0</td>\n",
       "      <td>0.12</td>\n",
       "      <td>...</td>\n",
       "      <td>450.00</td>\n",
       "      <td>345.00</td>\n",
       "      <td>144.19</td>\n",
       "      <td>1.57</td>\n",
       "      <td>0</td>\n",
       "      <td>3113.33</td>\n",
       "      <td>66.16</td>\n",
       "      <td>5.99</td>\n",
       "      <td>0</td>\n",
       "      <td>0</td>\n",
       "    </tr>\n",
       "    <tr>\n",
       "      <th>680</th>\n",
       "      <td>33</td>\n",
       "      <td>17</td>\n",
       "      <td>110.18</td>\n",
       "      <td>555.24</td>\n",
       "      <td>179</td>\n",
       "      <td>137700</td>\n",
       "      <td>65.65</td>\n",
       "      <td>8.11</td>\n",
       "      <td>1334.0</td>\n",
       "      <td>0.12</td>\n",
       "      <td>...</td>\n",
       "      <td>180.00</td>\n",
       "      <td>90.00</td>\n",
       "      <td>48.11</td>\n",
       "      <td>8.00</td>\n",
       "      <td>0</td>\n",
       "      <td>4609.12</td>\n",
       "      <td>66.11</td>\n",
       "      <td>6.25</td>\n",
       "      <td>0</td>\n",
       "      <td>0</td>\n",
       "    </tr>\n",
       "    <tr>\n",
       "      <th>681</th>\n",
       "      <td>34</td>\n",
       "      <td>13</td>\n",
       "      <td>52.92</td>\n",
       "      <td>580.92</td>\n",
       "      <td>24</td>\n",
       "      <td>105300</td>\n",
       "      <td>61.69</td>\n",
       "      <td>6.99</td>\n",
       "      <td>847.0</td>\n",
       "      <td>0.11</td>\n",
       "      <td>...</td>\n",
       "      <td>180.00</td>\n",
       "      <td>126.00</td>\n",
       "      <td>49.30</td>\n",
       "      <td>3.85</td>\n",
       "      <td>0</td>\n",
       "      <td>3414.04</td>\n",
       "      <td>66.12</td>\n",
       "      <td>6.05</td>\n",
       "      <td>0</td>\n",
       "      <td>0</td>\n",
       "    </tr>\n",
       "    <tr>\n",
       "      <th>682</th>\n",
       "      <td>35</td>\n",
       "      <td>20</td>\n",
       "      <td>108.15</td>\n",
       "      <td>626.25</td>\n",
       "      <td>114</td>\n",
       "      <td>162000</td>\n",
       "      <td>74.70</td>\n",
       "      <td>16.77</td>\n",
       "      <td>1641.0</td>\n",
       "      <td>0.22</td>\n",
       "      <td>...</td>\n",
       "      <td>201.25</td>\n",
       "      <td>138.54</td>\n",
       "      <td>53.74</td>\n",
       "      <td>4.11</td>\n",
       "      <td>0</td>\n",
       "      <td>3298.43</td>\n",
       "      <td>66.20</td>\n",
       "      <td>6.17</td>\n",
       "      <td>0</td>\n",
       "      <td>0</td>\n",
       "    </tr>\n",
       "    <tr>\n",
       "      <th>683</th>\n",
       "      <td>36</td>\n",
       "      <td>23</td>\n",
       "      <td>99.26</td>\n",
       "      <td>481.09</td>\n",
       "      <td>159</td>\n",
       "      <td>186300</td>\n",
       "      <td>68.26</td>\n",
       "      <td>13.30</td>\n",
       "      <td>1641.0</td>\n",
       "      <td>0.20</td>\n",
       "      <td>...</td>\n",
       "      <td>201.25</td>\n",
       "      <td>138.54</td>\n",
       "      <td>53.74</td>\n",
       "      <td>4.11</td>\n",
       "      <td>0</td>\n",
       "      <td>6138.39</td>\n",
       "      <td>66.01</td>\n",
       "      <td>6.30</td>\n",
       "      <td>0</td>\n",
       "      <td>0</td>\n",
       "    </tr>\n",
       "    <tr>\n",
       "      <th>684</th>\n",
       "      <td>37</td>\n",
       "      <td>33</td>\n",
       "      <td>22.18</td>\n",
       "      <td>622.15</td>\n",
       "      <td>131</td>\n",
       "      <td>267300</td>\n",
       "      <td>70.21</td>\n",
       "      <td>11.03</td>\n",
       "      <td>2366.0</td>\n",
       "      <td>0.16</td>\n",
       "      <td>...</td>\n",
       "      <td>254.56</td>\n",
       "      <td>145.46</td>\n",
       "      <td>87.83</td>\n",
       "      <td>6.12</td>\n",
       "      <td>0</td>\n",
       "      <td>3845.94</td>\n",
       "      <td>66.16</td>\n",
       "      <td>5.91</td>\n",
       "      <td>0</td>\n",
       "      <td>0</td>\n",
       "    </tr>\n",
       "    <tr>\n",
       "      <th>685</th>\n",
       "      <td>38</td>\n",
       "      <td>15</td>\n",
       "      <td>32.47</td>\n",
       "      <td>582.13</td>\n",
       "      <td>156</td>\n",
       "      <td>121500</td>\n",
       "      <td>73.27</td>\n",
       "      <td>12.11</td>\n",
       "      <td>1080.0</td>\n",
       "      <td>0.17</td>\n",
       "      <td>...</td>\n",
       "      <td>201.25</td>\n",
       "      <td>105.89</td>\n",
       "      <td>84.66</td>\n",
       "      <td>6.47</td>\n",
       "      <td>0</td>\n",
       "      <td>3285.95</td>\n",
       "      <td>66.11</td>\n",
       "      <td>5.98</td>\n",
       "      <td>0</td>\n",
       "      <td>0</td>\n",
       "    </tr>\n",
       "    <tr>\n",
       "      <th>686</th>\n",
       "      <td>39</td>\n",
       "      <td>46</td>\n",
       "      <td>22.00</td>\n",
       "      <td>549.41</td>\n",
       "      <td>142</td>\n",
       "      <td>372600</td>\n",
       "      <td>68.54</td>\n",
       "      <td>16.65</td>\n",
       "      <td>2403.0</td>\n",
       "      <td>0.24</td>\n",
       "      <td>...</td>\n",
       "      <td>509.12</td>\n",
       "      <td>328.84</td>\n",
       "      <td>196.33</td>\n",
       "      <td>2.35</td>\n",
       "      <td>0</td>\n",
       "      <td>3406.44</td>\n",
       "      <td>66.07</td>\n",
       "      <td>5.98</td>\n",
       "      <td>0</td>\n",
       "      <td>0</td>\n",
       "    </tr>\n",
       "    <tr>\n",
       "      <th>687</th>\n",
       "      <td>40</td>\n",
       "      <td>23</td>\n",
       "      <td>45.17</td>\n",
       "      <td>544.09</td>\n",
       "      <td>178</td>\n",
       "      <td>186300</td>\n",
       "      <td>71.91</td>\n",
       "      <td>11.56</td>\n",
       "      <td>1694.0</td>\n",
       "      <td>0.16</td>\n",
       "      <td>...</td>\n",
       "      <td>180.00</td>\n",
       "      <td>165.00</td>\n",
       "      <td>36.74</td>\n",
       "      <td>3.27</td>\n",
       "      <td>0</td>\n",
       "      <td>3547.01</td>\n",
       "      <td>66.07</td>\n",
       "      <td>6.06</td>\n",
       "      <td>0</td>\n",
       "      <td>0</td>\n",
       "    </tr>\n",
       "    <tr>\n",
       "      <th>688</th>\n",
       "      <td>41</td>\n",
       "      <td>108</td>\n",
       "      <td>74.38</td>\n",
       "      <td>603.70</td>\n",
       "      <td>140</td>\n",
       "      <td>874800</td>\n",
       "      <td>76.33</td>\n",
       "      <td>12.80</td>\n",
       "      <td>4642.0</td>\n",
       "      <td>0.17</td>\n",
       "      <td>...</td>\n",
       "      <td>649.00</td>\n",
       "      <td>389.98</td>\n",
       "      <td>183.66</td>\n",
       "      <td>4.26</td>\n",
       "      <td>0</td>\n",
       "      <td>3426.57</td>\n",
       "      <td>66.16</td>\n",
       "      <td>6.09</td>\n",
       "      <td>0</td>\n",
       "      <td>0</td>\n",
       "    </tr>\n",
       "    <tr>\n",
       "      <th>689</th>\n",
       "      <td>42</td>\n",
       "      <td>18</td>\n",
       "      <td>42.56</td>\n",
       "      <td>593.50</td>\n",
       "      <td>159</td>\n",
       "      <td>145800</td>\n",
       "      <td>73.44</td>\n",
       "      <td>8.79</td>\n",
       "      <td>1371.0</td>\n",
       "      <td>0.12</td>\n",
       "      <td>...</td>\n",
       "      <td>201.25</td>\n",
       "      <td>148.25</td>\n",
       "      <td>53.88</td>\n",
       "      <td>3.27</td>\n",
       "      <td>0</td>\n",
       "      <td>3254.06</td>\n",
       "      <td>66.13</td>\n",
       "      <td>6.00</td>\n",
       "      <td>0</td>\n",
       "      <td>0</td>\n",
       "    </tr>\n",
       "  </tbody>\n",
       "</table>\n",
       "<p>20 rows × 51 columns</p>\n",
       "</div>"
      ],
      "text/plain": [
       "     f_1  f_2     f_3     f_4  f_5     f_6    f_7    f_8     f_9  f_10  ...  \\\n",
       "670   23   29  146.31  614.24  148  234900  74.55  11.46  2345.0  0.15  ...   \n",
       "671   24   59   83.12  594.59  171  477900  70.07  12.78  3864.0  0.18  ...   \n",
       "672   25   18  334.39  659.11  175  145800  66.50   9.80  1461.0  0.15  ...   \n",
       "673   26   31    3.77  478.87   75  251100  70.06  16.34  1715.0  0.23  ...   \n",
       "674   27   33    7.70  512.15   90  267300  74.64   9.45  2530.0  0.13  ...   \n",
       "675   28   48  122.65  533.54  149  388800  65.94  18.26  3054.0  0.28  ...   \n",
       "676   29   32   74.66  543.84  168  259200  70.25  11.38  2345.0  0.16  ...   \n",
       "677   30   23  653.70  454.48  140  186300  67.09  15.62  1392.0  0.23  ...   \n",
       "678   31   15  149.80  663.07  151  121500  62.73  13.86  1101.0  0.22  ...   \n",
       "679   32   31   45.94  613.35    6  251100  72.68   9.09  1535.0  0.12  ...   \n",
       "680   33   17  110.18  555.24  179  137700  65.65   8.11  1334.0  0.12  ...   \n",
       "681   34   13   52.92  580.92   24  105300  61.69   6.99   847.0  0.11  ...   \n",
       "682   35   20  108.15  626.25  114  162000  74.70  16.77  1641.0  0.22  ...   \n",
       "683   36   23   99.26  481.09  159  186300  68.26  13.30  1641.0  0.20  ...   \n",
       "684   37   33   22.18  622.15  131  267300  70.21  11.03  2366.0  0.16  ...   \n",
       "685   38   15   32.47  582.13  156  121500  73.27  12.11  1080.0  0.17  ...   \n",
       "686   39   46   22.00  549.41  142  372600  68.54  16.65  2403.0  0.24  ...   \n",
       "687   40   23   45.17  544.09  178  186300  71.91  11.56  1694.0  0.16  ...   \n",
       "688   41  108   74.38  603.70  140  874800  76.33  12.80  4642.0  0.17  ...   \n",
       "689   42   18   42.56  593.50  159  145800  73.44   8.79  1371.0  0.12  ...   \n",
       "\n",
       "       f_42    f_43    f_44   f_45  f_46      f_47   f_48  f_49  target  \\\n",
       "670  127.28  101.82   53.67  10.31     1   3872.54  66.20  6.31       0   \n",
       "671  458.91  238.49  136.01   5.34     0   3607.63  66.15  6.13       0   \n",
       "672  180.00  115.71   43.92   5.44     0  15866.20  66.33  6.86       0   \n",
       "673  371.08  194.46  105.68   3.82     0   6024.62  65.97  6.00       0   \n",
       "674  270.00  180.00   48.11   4.00     0   4384.37  66.01  5.97       0   \n",
       "675  324.50  193.37   90.99   6.07     0   5398.79  66.08  6.32       0   \n",
       "676  270.00  142.50   60.17   7.81     0   4320.54  66.08  6.15       0   \n",
       "677  254.56  159.10   63.64   3.20     0  33913.51  66.18  8.08       0   \n",
       "678  127.28  127.28    0.00   4.12     0   4529.54  66.27  6.27       0   \n",
       "679  450.00  345.00  144.19   1.57     0   3113.33  66.16  5.99       0   \n",
       "680  180.00   90.00   48.11   8.00     0   4609.12  66.11  6.25       0   \n",
       "681  180.00  126.00   49.30   3.85     0   3414.04  66.12  6.05       0   \n",
       "682  201.25  138.54   53.74   4.11     0   3298.43  66.20  6.17       0   \n",
       "683  201.25  138.54   53.74   4.11     0   6138.39  66.01  6.30       0   \n",
       "684  254.56  145.46   87.83   6.12     0   3845.94  66.16  5.91       0   \n",
       "685  201.25  105.89   84.66   6.47     0   3285.95  66.11  5.98       0   \n",
       "686  509.12  328.84  196.33   2.35     0   3406.44  66.07  5.98       0   \n",
       "687  180.00  165.00   36.74   3.27     0   3547.01  66.07  6.06       0   \n",
       "688  649.00  389.98  183.66   4.26     0   3426.57  66.16  6.09       0   \n",
       "689  201.25  148.25   53.88   3.27     0   3254.06  66.13  6.00       0   \n",
       "\n",
       "     y_pred  \n",
       "670       0  \n",
       "671       0  \n",
       "672       0  \n",
       "673       0  \n",
       "674       0  \n",
       "675       0  \n",
       "676       0  \n",
       "677       1  \n",
       "678       0  \n",
       "679       0  \n",
       "680       0  \n",
       "681       0  \n",
       "682       0  \n",
       "683       0  \n",
       "684       0  \n",
       "685       0  \n",
       "686       0  \n",
       "687       0  \n",
       "688       0  \n",
       "689       0  \n",
       "\n",
       "[20 rows x 51 columns]"
      ]
     },
     "execution_count": 37,
     "metadata": {},
     "output_type": "execute_result"
    }
   ],
   "source": [
    "df_rand20=df[670:690]\n",
    "df_rand20.to_csv('df_rand20.csv')\n",
    "df_rand20"
   ]
  },
  {
   "cell_type": "markdown",
   "id": "92caf9f5",
   "metadata": {},
   "source": [
    "### df_rand is the random generated 20 datasets DataFrame.\n",
    "### Selection x and y in random dataset:-"
   ]
  },
  {
   "cell_type": "code",
   "execution_count": 38,
   "id": "d19d3713",
   "metadata": {},
   "outputs": [
    {
     "name": "stdout",
     "output_type": "stream",
     "text": [
      "(20, 49) (20,)\n"
     ]
    }
   ],
   "source": [
    "x=df_rand20.drop(['target','y_pred'],axis=1)\n",
    "y=df_rand20['target']\n",
    "print(x.shape,y.shape)"
   ]
  },
  {
   "cell_type": "markdown",
   "id": "b9bbf2c5",
   "metadata": {},
   "source": [
    "### Split train and test data:-"
   ]
  },
  {
   "cell_type": "code",
   "execution_count": 39,
   "id": "fba1b931",
   "metadata": {},
   "outputs": [
    {
     "name": "stdout",
     "output_type": "stream",
     "text": [
      "(15, 49) (5, 49)\n",
      "(15,) (5,)\n"
     ]
    }
   ],
   "source": [
    "x_train,x_test,y_train,y_test=train_test_split(x,y,test_size=0.25,random_state=5)\n",
    "print(x_train.shape,x_test.shape)\n",
    "print(y_train.shape,y_test.shape)"
   ]
  },
  {
   "cell_type": "markdown",
   "id": "08ef70dd",
   "metadata": {},
   "source": [
    "## Applying the loaded Best model on random datasets:\n"
   ]
  },
  {
   "cell_type": "markdown",
   "id": "0e8f4b23",
   "metadata": {},
   "source": [
    "### Loading the Saved Best Model:-"
   ]
  },
  {
   "cell_type": "code",
   "execution_count": 40,
   "id": "50b0243c",
   "metadata": {},
   "outputs": [],
   "source": [
    "loaded_model=pickle.load(open('ada.pkl','rb'))"
   ]
  },
  {
   "cell_type": "markdown",
   "id": "8cc50b02",
   "metadata": {},
   "source": [
    "### Applying Saved Best Model:-"
   ]
  },
  {
   "cell_type": "code",
   "execution_count": 41,
   "id": "f40fc29d",
   "metadata": {},
   "outputs": [
    {
     "name": "stdout",
     "output_type": "stream",
     "text": [
      "Test Score:1.0, Train Score:0.9333333333333333\n"
     ]
    }
   ],
   "source": [
    "result=loaded_model.score(x_test,y_test)\n",
    "result2=loaded_model.score(x_train,y_train)\n",
    "print(f'Test Score:{result}, Train Score:{result2}')"
   ]
  },
  {
   "cell_type": "code",
   "execution_count": null,
   "id": "64500498",
   "metadata": {},
   "outputs": [],
   "source": []
  },
  {
   "cell_type": "code",
   "execution_count": null,
   "id": "d70b6f43",
   "metadata": {},
   "outputs": [],
   "source": []
  }
 ],
 "metadata": {
  "kernelspec": {
   "display_name": "Python 3 (ipykernel)",
   "language": "python",
   "name": "python3"
  },
  "language_info": {
   "codemirror_mode": {
    "name": "ipython",
    "version": 3
   },
   "file_extension": ".py",
   "mimetype": "text/x-python",
   "name": "python",
   "nbconvert_exporter": "python",
   "pygments_lexer": "ipython3",
   "version": "3.11.1"
  }
 },
 "nbformat": 4,
 "nbformat_minor": 5
}
